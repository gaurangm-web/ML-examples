{
  "nbformat": 4,
  "nbformat_minor": 0,
  "metadata": {
    "colab": {
      "name": "ML_classif_examples.ipynb",
      "provenance": [],
      "collapsed_sections": [
        "2sC-uld_eMV0",
        "627Gmg6flsfH",
        "mij2Vbqj6oZ-",
        "iLbi92BP6wrF",
        "Tq2Es8IN37h0"
      ],
      "toc_visible": true,
      "mount_file_id": "1CCPk10Z010D5TY7zDCEHFHmR0x6o_G_M",
      "authorship_tag": "ABX9TyMmT3V1Rjh7epSdg0xX7BmP",
      "include_colab_link": true
    },
    "kernelspec": {
      "name": "python3",
      "display_name": "Python 3"
    },
    "language_info": {
      "name": "python"
    }
  },
  "cells": [
    {
      "cell_type": "markdown",
      "metadata": {
        "id": "view-in-github",
        "colab_type": "text"
      },
      "source": [
        "<a href=\"https://colab.research.google.com/github/gaurangm-web/ML-examples/blob/main/ML_classif_examples.ipynb\" target=\"_parent\"><img src=\"https://colab.research.google.com/assets/colab-badge.svg\" alt=\"Open In Colab\"/></a>"
      ]
    },
    {
      "cell_type": "markdown",
      "metadata": {
        "id": "QCjkrjoyhET1"
      },
      "source": [
        "# This notebook illustrates some standard ML methods (with scikit-learn and pandas) on publicly available datasets\n",
        "\n"
      ]
    },
    {
      "cell_type": "markdown",
      "metadata": {
        "id": "vxTps9jcicTu"
      },
      "source": [
        "**Import required python modules:**"
      ]
    },
    {
      "cell_type": "code",
      "metadata": {
        "id": "gciQzQ5pTbB0"
      },
      "source": [
        "import numpy as np\n",
        "import matplotlib.pyplot as plt\n",
        "from matplotlib.colors import ListedColormap\n",
        "import pandas as pd\n",
        "from collections import Counter\n",
        "\n",
        "from sklearn.model_selection import train_test_split\n",
        "from sklearn.linear_model import LogisticRegression\n",
        "from sklearn.ensemble import RandomForestClassifier,AdaBoostClassifier\n",
        "from sklearn.neural_network import MLPClassifier\n",
        "from sklearn.neighbors import KNeighborsClassifier\n",
        "from sklearn.metrics import f1_score\n",
        "from sklearn.inspection import permutation_importance\n",
        "from sklearn.preprocessing import MaxAbsScaler,StandardScaler\n",
        "from sklearn.decomposition import PCA\n",
        "from sklearn.manifold import TSNE"
      ],
      "execution_count": 181,
      "outputs": []
    },
    {
      "cell_type": "markdown",
      "metadata": {
        "id": "2sC-uld_eMV0"
      },
      "source": [
        "## Load data \n",
        "\n"
      ]
    },
    {
      "cell_type": "markdown",
      "metadata": {
        "id": "RD5cULNY6KS2"
      },
      "source": [
        "Here, cardiotocogram data for fetal heart health (from https://archive.ics.uci.edu/ml/datasets/cardiotocography) from a csv file as a pandas dataframe. The file is loaded from local drive folder, but could also be directly downloaded from the web."
      ]
    },
    {
      "cell_type": "code",
      "metadata": {
        "id": "dPUXAKWqawj1"
      },
      "source": [
        "data = pd.read_csv('/content/drive/My Drive/Downloaded_Datasets/fetal_health.csv',sep=',')"
      ],
      "execution_count": 23,
      "outputs": []
    },
    {
      "cell_type": "markdown",
      "metadata": {
        "id": "_nu5QmRkjKVA"
      },
      "source": [
        "View dataframe:"
      ]
    },
    {
      "cell_type": "code",
      "metadata": {
        "colab": {
          "base_uri": "https://localhost:8080/",
          "height": 262
        },
        "id": "x2susF15bE9f",
        "outputId": "d2f80d65-5377-4a52-9841-76d7a8d97872"
      },
      "source": [
        "print(data.shape)\n",
        "data.head()"
      ],
      "execution_count": 90,
      "outputs": [
        {
          "output_type": "stream",
          "name": "stdout",
          "text": [
            "(2126, 22)\n"
          ]
        },
        {
          "output_type": "execute_result",
          "data": {
            "text/html": [
              "<div>\n",
              "<style scoped>\n",
              "    .dataframe tbody tr th:only-of-type {\n",
              "        vertical-align: middle;\n",
              "    }\n",
              "\n",
              "    .dataframe tbody tr th {\n",
              "        vertical-align: top;\n",
              "    }\n",
              "\n",
              "    .dataframe thead th {\n",
              "        text-align: right;\n",
              "    }\n",
              "</style>\n",
              "<table border=\"1\" class=\"dataframe\">\n",
              "  <thead>\n",
              "    <tr style=\"text-align: right;\">\n",
              "      <th></th>\n",
              "      <th>baseline value</th>\n",
              "      <th>accelerations</th>\n",
              "      <th>fetal_movement</th>\n",
              "      <th>uterine_contractions</th>\n",
              "      <th>light_decelerations</th>\n",
              "      <th>severe_decelerations</th>\n",
              "      <th>prolongued_decelerations</th>\n",
              "      <th>abnormal_short_term_variability</th>\n",
              "      <th>mean_value_of_short_term_variability</th>\n",
              "      <th>percentage_of_time_with_abnormal_long_term_variability</th>\n",
              "      <th>mean_value_of_long_term_variability</th>\n",
              "      <th>histogram_width</th>\n",
              "      <th>histogram_min</th>\n",
              "      <th>histogram_max</th>\n",
              "      <th>histogram_number_of_peaks</th>\n",
              "      <th>histogram_number_of_zeroes</th>\n",
              "      <th>histogram_mode</th>\n",
              "      <th>histogram_mean</th>\n",
              "      <th>histogram_median</th>\n",
              "      <th>histogram_variance</th>\n",
              "      <th>histogram_tendency</th>\n",
              "      <th>fetal_health</th>\n",
              "    </tr>\n",
              "  </thead>\n",
              "  <tbody>\n",
              "    <tr>\n",
              "      <th>0</th>\n",
              "      <td>120.0</td>\n",
              "      <td>0.000</td>\n",
              "      <td>0.0</td>\n",
              "      <td>0.000</td>\n",
              "      <td>0.000</td>\n",
              "      <td>0.0</td>\n",
              "      <td>0.0</td>\n",
              "      <td>73.0</td>\n",
              "      <td>0.5</td>\n",
              "      <td>43.0</td>\n",
              "      <td>2.4</td>\n",
              "      <td>64.0</td>\n",
              "      <td>62.0</td>\n",
              "      <td>126.0</td>\n",
              "      <td>2.0</td>\n",
              "      <td>0.0</td>\n",
              "      <td>120.0</td>\n",
              "      <td>137.0</td>\n",
              "      <td>121.0</td>\n",
              "      <td>73.0</td>\n",
              "      <td>1.0</td>\n",
              "      <td>2.0</td>\n",
              "    </tr>\n",
              "    <tr>\n",
              "      <th>1</th>\n",
              "      <td>132.0</td>\n",
              "      <td>0.006</td>\n",
              "      <td>0.0</td>\n",
              "      <td>0.006</td>\n",
              "      <td>0.003</td>\n",
              "      <td>0.0</td>\n",
              "      <td>0.0</td>\n",
              "      <td>17.0</td>\n",
              "      <td>2.1</td>\n",
              "      <td>0.0</td>\n",
              "      <td>10.4</td>\n",
              "      <td>130.0</td>\n",
              "      <td>68.0</td>\n",
              "      <td>198.0</td>\n",
              "      <td>6.0</td>\n",
              "      <td>1.0</td>\n",
              "      <td>141.0</td>\n",
              "      <td>136.0</td>\n",
              "      <td>140.0</td>\n",
              "      <td>12.0</td>\n",
              "      <td>0.0</td>\n",
              "      <td>1.0</td>\n",
              "    </tr>\n",
              "    <tr>\n",
              "      <th>2</th>\n",
              "      <td>133.0</td>\n",
              "      <td>0.003</td>\n",
              "      <td>0.0</td>\n",
              "      <td>0.008</td>\n",
              "      <td>0.003</td>\n",
              "      <td>0.0</td>\n",
              "      <td>0.0</td>\n",
              "      <td>16.0</td>\n",
              "      <td>2.1</td>\n",
              "      <td>0.0</td>\n",
              "      <td>13.4</td>\n",
              "      <td>130.0</td>\n",
              "      <td>68.0</td>\n",
              "      <td>198.0</td>\n",
              "      <td>5.0</td>\n",
              "      <td>1.0</td>\n",
              "      <td>141.0</td>\n",
              "      <td>135.0</td>\n",
              "      <td>138.0</td>\n",
              "      <td>13.0</td>\n",
              "      <td>0.0</td>\n",
              "      <td>1.0</td>\n",
              "    </tr>\n",
              "    <tr>\n",
              "      <th>3</th>\n",
              "      <td>134.0</td>\n",
              "      <td>0.003</td>\n",
              "      <td>0.0</td>\n",
              "      <td>0.008</td>\n",
              "      <td>0.003</td>\n",
              "      <td>0.0</td>\n",
              "      <td>0.0</td>\n",
              "      <td>16.0</td>\n",
              "      <td>2.4</td>\n",
              "      <td>0.0</td>\n",
              "      <td>23.0</td>\n",
              "      <td>117.0</td>\n",
              "      <td>53.0</td>\n",
              "      <td>170.0</td>\n",
              "      <td>11.0</td>\n",
              "      <td>0.0</td>\n",
              "      <td>137.0</td>\n",
              "      <td>134.0</td>\n",
              "      <td>137.0</td>\n",
              "      <td>13.0</td>\n",
              "      <td>1.0</td>\n",
              "      <td>1.0</td>\n",
              "    </tr>\n",
              "    <tr>\n",
              "      <th>4</th>\n",
              "      <td>132.0</td>\n",
              "      <td>0.007</td>\n",
              "      <td>0.0</td>\n",
              "      <td>0.008</td>\n",
              "      <td>0.000</td>\n",
              "      <td>0.0</td>\n",
              "      <td>0.0</td>\n",
              "      <td>16.0</td>\n",
              "      <td>2.4</td>\n",
              "      <td>0.0</td>\n",
              "      <td>19.9</td>\n",
              "      <td>117.0</td>\n",
              "      <td>53.0</td>\n",
              "      <td>170.0</td>\n",
              "      <td>9.0</td>\n",
              "      <td>0.0</td>\n",
              "      <td>137.0</td>\n",
              "      <td>136.0</td>\n",
              "      <td>138.0</td>\n",
              "      <td>11.0</td>\n",
              "      <td>1.0</td>\n",
              "      <td>1.0</td>\n",
              "    </tr>\n",
              "  </tbody>\n",
              "</table>\n",
              "</div>"
            ],
            "text/plain": [
              "   baseline value  accelerations  ...  histogram_tendency  fetal_health\n",
              "0           120.0          0.000  ...                 1.0           2.0\n",
              "1           132.0          0.006  ...                 0.0           1.0\n",
              "2           133.0          0.003  ...                 0.0           1.0\n",
              "3           134.0          0.003  ...                 1.0           1.0\n",
              "4           132.0          0.007  ...                 1.0           1.0\n",
              "\n",
              "[5 rows x 22 columns]"
            ]
          },
          "metadata": {},
          "execution_count": 90
        }
      ]
    },
    {
      "cell_type": "markdown",
      "metadata": {
        "id": "w7PRxQ-DipJa"
      },
      "source": [
        "There are 21 independent numerical variables and last column corresponds to health status (3 possible classes: 1 (normal), 2 (suspect), 3 (disease)).\n",
        "\n",
        "Preparing array of independent variables (X) and class labels (y vector):"
      ]
    },
    {
      "cell_type": "code",
      "metadata": {
        "colab": {
          "base_uri": "https://localhost:8080/"
        },
        "id": "aJw4SK0wcJsv",
        "outputId": "9377484c-8c91-4866-f862-adf4c2f3f561"
      },
      "source": [
        "X_dropped_cols = ['fetal_health']\n",
        "y_colname = 'fetal_health'\n",
        "\n",
        "X = data.drop(columns=X_dropped_cols)\n",
        "y = data[y_colname]   \n",
        "\n",
        "## No. of unique class labels:\n",
        "classes = list(y.unique())\n",
        "\n",
        "print(X.shape,y.shape)\n",
        "print('Classes:',classes)"
      ],
      "execution_count": 81,
      "outputs": [
        {
          "output_type": "stream",
          "name": "stdout",
          "text": [
            "(2126, 21) (2126,)\n",
            "Classes: [2.0, 1.0, 3.0]\n"
          ]
        }
      ]
    },
    {
      "cell_type": "markdown",
      "metadata": {
        "id": "zyFOyrfWjTA6"
      },
      "source": [
        "**Dividing the full dataset into learning (\"training + tuning/validation\") and a held-out test (\"reporting\") sets**\n",
        "\n",
        "The train/test examples are stratified to have same frequency distribution over the different classes"
      ]
    },
    {
      "cell_type": "code",
      "metadata": {
        "id": "8kLH2inwfC4I",
        "colab": {
          "base_uri": "https://localhost:8080/"
        },
        "outputId": "f4df2128-59a1-4954-d4b0-e607b2c70d4e"
      },
      "source": [
        "X_train, X_test, y_train, y_test = train_test_split(X, y, test_size=0.2, random_state=42,stratify=y)\n",
        "\n",
        "## Checking relative frequencies of classes among train/test sets:\n",
        "print('Train #:',len(y_train))\n",
        "for c in classes: print(c,len(y_train[y_train == c]))\n",
        "\n",
        "print('Test #:',len(y_test))\n",
        "for c in classes: print(c,len(y_test[y_test == c]))"
      ],
      "execution_count": 85,
      "outputs": [
        {
          "output_type": "stream",
          "name": "stdout",
          "text": [
            "Train #: 1700\n",
            "2.0 236\n",
            "1.0 1323\n",
            "3.0 141\n",
            "Test #: 426\n",
            "2.0 59\n",
            "1.0 332\n",
            "3.0 35\n"
          ]
        }
      ]
    },
    {
      "cell_type": "markdown",
      "metadata": {
        "id": "627Gmg6flsfH"
      },
      "source": [
        "\n",
        "## Implementing a random forest classifier\n"
      ]
    },
    {
      "cell_type": "markdown",
      "metadata": {
        "id": "t0CZoJ4I6hzz"
      },
      "source": [
        "m = sqrt(num_parameters) random features chosen per split, and 100 decision trees (bootstrap sampling of training set).\n",
        "\n",
        "Class weights are adjusted according to their relative proportions in the training set. "
      ]
    },
    {
      "cell_type": "code",
      "metadata": {
        "colab": {
          "base_uri": "https://localhost:8080/"
        },
        "id": "Yva7ImjOjGeZ",
        "outputId": "05488597-85c7-4dfa-f955-e0721402aecc"
      },
      "source": [
        "rfc = RandomForestClassifier(n_estimators=100,class_weight='balanced',\n",
        "                             max_depth=None,criterion='gini',oob_score=False,max_features='auto',random_state=42)\n",
        "rfc.fit(X_train, y_train)"
      ],
      "execution_count": 69,
      "outputs": [
        {
          "output_type": "execute_result",
          "data": {
            "text/plain": [
              "RandomForestClassifier(bootstrap=True, ccp_alpha=0.0, class_weight='balanced',\n",
              "                       criterion='gini', max_depth=None, max_features='auto',\n",
              "                       max_leaf_nodes=None, max_samples=None,\n",
              "                       min_impurity_decrease=0.0, min_impurity_split=None,\n",
              "                       min_samples_leaf=1, min_samples_split=2,\n",
              "                       min_weight_fraction_leaf=0.0, n_estimators=100,\n",
              "                       n_jobs=None, oob_score=False, random_state=42, verbose=0,\n",
              "                       warm_start=False)"
            ]
          },
          "metadata": {},
          "execution_count": 69
        }
      ]
    },
    {
      "cell_type": "markdown",
      "metadata": {
        "id": "us7_1au-qCDa"
      },
      "source": [
        "Classification accuracy on test set and F1-score (averaged as well as per-class; F-score may be more relevant when dataset is imbalanced):"
      ]
    },
    {
      "cell_type": "code",
      "metadata": {
        "colab": {
          "base_uri": "https://localhost:8080/"
        },
        "id": "xqOeeWkun_d3",
        "outputId": "cb48f084-04c6-489b-cddf-5c15d7e978f5"
      },
      "source": [
        "y_pred = rfc.predict(X_test)\n",
        "acc = rfc.score(X_test,y_test)\n",
        "f1_perclass = f1_score(y_test,y_pred,average=None,labels=y_train.unique())\n",
        "f1_avg = f1_score(y_test,y_pred,average='weighted')\n",
        "\n",
        "print('Clf accuracy:',acc, '\\nMean F1-score:',f1_avg)\n",
        "for c,f1 in sorted(zip(classes,f1_perclass),key=lambda f: f[0]): print(c,f1) "
      ],
      "execution_count": 70,
      "outputs": [
        {
          "output_type": "stream",
          "name": "stdout",
          "text": [
            "Class. Accuracy: 0.9342723004694836 \n",
            "Mean F1-score: 0.9306473075936014\n",
            "1.0 0.963181148748159\n",
            "2.0 0.9142857142857143\n",
            "3.0 0.7572815533980584\n"
          ]
        }
      ]
    },
    {
      "cell_type": "markdown",
      "metadata": {
        "id": "cMFoY35AtWFh"
      },
      "source": [
        "Importance of individual features for classification\n"
      ]
    },
    {
      "cell_type": "markdown",
      "metadata": {
        "id": "ljhJu87st_ZU"
      },
      "source": [
        "\n",
        "- Based on sorting features according to their individual contribution to reduction in gini impurity across splits"
      ]
    },
    {
      "cell_type": "code",
      "metadata": {
        "id": "VmHwYiwnwY_Y",
        "colab": {
          "base_uri": "https://localhost:8080/"
        },
        "outputId": "9aad909f-822e-417c-9065-195d01a03869"
      },
      "source": [
        "for f,imp in sorted(zip(data.columns,list(rfc.feature_importances_)),key = lambda fi: fi[1], reverse=True): print(f, imp)"
      ],
      "execution_count": 36,
      "outputs": [
        {
          "output_type": "stream",
          "name": "stdout",
          "text": [
            "abnormal_short_term_variability 0.13619111581885324\n",
            "percentage_of_time_with_abnormal_long_term_variability 0.13589881997927505\n",
            "histogram_mean 0.09176986562233648\n",
            "histogram_median 0.07271809376742816\n",
            "mean_value_of_short_term_variability 0.06711153596848017\n",
            "accelerations 0.06637624478895474\n",
            "histogram_mode 0.06089189342804046\n",
            "prolongued_decelerations 0.05750860706516698\n",
            "mean_value_of_long_term_variability 0.05632112947042861\n",
            "histogram_variance 0.04482206933243308\n",
            "baseline value 0.04196103864506142\n",
            "histogram_width 0.03572288797974654\n",
            "uterine_contractions 0.024304612564376566\n",
            "histogram_max 0.023991599990584485\n",
            "histogram_min 0.023808009098936468\n",
            "fetal_movement 0.020440643691942248\n",
            "histogram_number_of_peaks 0.015280907972859123\n",
            "light_decelerations 0.011274011851583103\n",
            "histogram_tendency 0.00966645994212078\n",
            "histogram_number_of_zeroes 0.00317454861188001\n",
            "severe_decelerations 0.000765904409512275\n"
          ]
        }
      ]
    },
    {
      "cell_type": "markdown",
      "metadata": {
        "id": "SvRnQs4btzkg"
      },
      "source": [
        "- Based on permutation testing on training data (means and std deviations)"
      ]
    },
    {
      "cell_type": "code",
      "metadata": {
        "id": "28PPeJzwycvf",
        "colab": {
          "base_uri": "https://localhost:8080/"
        },
        "outputId": "eb8e497a-2daa-4d2a-9a24-b73b85c99f4e"
      },
      "source": [
        "perm_imp = permutation_importance(rfc, X_train, y_train, n_repeats=10, random_state=0)\n",
        "for f,imp_mu,imp_sd in sorted(zip(data.columns,list(perm_imp.importances_mean),list(perm_imp.importances_std)),key = lambda fi: fi[1], reverse=True): print(f, imp_mu, imp_sd)"
      ],
      "execution_count": 37,
      "outputs": [
        {
          "output_type": "stream",
          "name": "stdout",
          "text": [
            "abnormal_short_term_variability 0.07858823529411763 0.0042189226063626085\n",
            "percentage_of_time_with_abnormal_long_term_variability 0.049588235294117634 0.0030115119379224044\n",
            "accelerations 0.04570588235294115 0.003893477821970093\n",
            "mean_value_of_short_term_variability 0.0361176470588235 0.002188361792675081\n",
            "histogram_mean 0.015117647058823503 0.0017656860023298451\n",
            "histogram_median 0.009352941176470564 0.0016098743745181204\n",
            "histogram_mode 0.008999999999999975 0.001765686002329859\n",
            "prolongued_decelerations 0.007294117647058796 0.00039019115180648076\n",
            "mean_value_of_long_term_variability 0.004941176470588204 0.0014456712620523093\n",
            "baseline value 0.004117647058823526 0.0007440653318043062\n",
            "histogram_variance 0.0033529411764705807 0.0010205500925233944\n",
            "fetal_movement 0.0028823529411764583 0.00041176470588236705\n",
            "uterine_contractions 0.0024117647058823468 0.001273906342806348\n",
            "histogram_width 0.0015882352941176126 0.0006470588235293996\n",
            "histogram_number_of_peaks 0.001470588235294068 0.00039460023132348093\n",
            "histogram_max 0.0011764705882352454 0.00037203266590213986\n",
            "histogram_min 0.0006470588235293895 0.0007180326832784359\n",
            "histogram_tendency 0.00047058823529413376 0.00023529411764706688\n",
            "light_decelerations 5.882352941176672e-05 0.0003167744004196875\n",
            "severe_decelerations 0.0 0.0\n",
            "histogram_number_of_zeroes 0.0 0.0\n"
          ]
        }
      ]
    },
    {
      "cell_type": "markdown",
      "metadata": {
        "id": "kL_iT7UDvtKK"
      },
      "source": [
        "Performance of RF classifier as a functon of number of trees:"
      ]
    },
    {
      "cell_type": "code",
      "metadata": {
        "colab": {
          "base_uri": "https://localhost:8080/",
          "height": 558
        },
        "id": "56qi2sROoTbn",
        "outputId": "09a48c31-15d0-4cad-a8a7-5939c2e410cf"
      },
      "source": [
        "## Max_features: number of features to use at every split; default is \"auto\" (sqrt(n_features)), \n",
        "## which is compared to considering all features at every split (max_features = 1.0)\n",
        "\n",
        "fig, ax = plt.subplots(figsize=(6, 8))\n",
        "\n",
        "n_trees = [10,20,50,100,200,500,1000]\n",
        "\n",
        "for max_f in [1.0,\"auto\"]:\n",
        "\n",
        "  cls,f1 = [],[] \n",
        "  for n_est in n_trees:\n",
        "\n",
        "    #print(n_est)\n",
        "    rfc = RandomForestClassifier(n_estimators=n_est,class_weight=\"balanced\",\n",
        "                              max_depth=None,criterion='gini',oob_score=False,max_features=max_f,random_state=42)\n",
        "    rfc.fit(X_train, y_train)\n",
        "    y_pred = rfc.predict(X_test)\n",
        "    cls.append(rfc.score(X_test,y_test))\n",
        "    f1.append(f1_score(y_test,y_pred,average='weighted'))\n",
        "\n",
        "  plt.subplot(2,1,1)\n",
        "  plt.plot(n_trees,cls,'-',label='Max features:'+str(max_f))\n",
        "  plt.ylim([0,1])\n",
        "  plt.ylabel('Classif. accuracy')\n",
        "  plt.legend(loc='best')\n",
        "  \n",
        "  plt.subplot(2,1,2)\n",
        "  plt.plot(n_trees,f1,'-',label='Max features:'+str(max_f))\n",
        "  plt.ylim([0,1])\n",
        "  plt.ylabel('F1-score')\n",
        "  plt.legend(loc='best')\n",
        "\n",
        "  plt.xlabel('Number of trees')\n"
      ],
      "execution_count": 46,
      "outputs": [
        {
          "output_type": "stream",
          "name": "stderr",
          "text": [
            "/usr/local/lib/python3.7/dist-packages/ipykernel_launcher.py:18: MatplotlibDeprecationWarning: Adding an axes using the same arguments as a previous axes currently reuses the earlier instance.  In a future version, a new instance will always be created and returned.  Meanwhile, this warning can be suppressed, and the future behavior ensured, by passing a unique label to each axes instance.\n",
            "/usr/local/lib/python3.7/dist-packages/ipykernel_launcher.py:24: MatplotlibDeprecationWarning: Adding an axes using the same arguments as a previous axes currently reuses the earlier instance.  In a future version, a new instance will always be created and returned.  Meanwhile, this warning can be suppressed, and the future behavior ensured, by passing a unique label to each axes instance.\n"
          ]
        },
        {
          "output_type": "display_data",
          "data": {
            "image/png": "[encoded data removed]",
            "text/plain": [
              "<Figure size 432x576 with 2 Axes>"
            ]
          },
          "metadata": {
            "needs_background": "light"
          }
        }
      ]
    },
    {
      "cell_type": "markdown",
      "metadata": {
        "id": "mij2Vbqj6oZ-"
      },
      "source": [
        "## Applying boosting (AdaBoost classifier)"
      ]
    },
    {
      "cell_type": "markdown",
      "metadata": {
        "id": "hFRgwlHrwZ84"
      },
      "source": [
        "Default setting of base_estimator is decision tree classifier with max_depth=1 (stumps)\n",
        "\n",
        "Learning rate and n_estimators (# trees) are tunable parameters"
      ]
    },
    {
      "cell_type": "code",
      "metadata": {
        "colab": {
          "base_uri": "https://localhost:8080/"
        },
        "id": "LKwYDNtstj0J",
        "outputId": "043dc71b-ad63-4193-b187-873354f1cc24"
      },
      "source": [
        "abc = AdaBoostClassifier(base_estimator=None, n_estimators=100, learning_rate=.1, random_state=42)\n",
        "abc.fit(X_train, y_train)"
      ],
      "execution_count": 47,
      "outputs": [
        {
          "output_type": "execute_result",
          "data": {
            "text/plain": [
              "AdaBoostClassifier(algorithm='SAMME.R', base_estimator=None, learning_rate=0.1,\n",
              "                   n_estimators=100, random_state=42)"
            ]
          },
          "metadata": {},
          "execution_count": 47
        }
      ]
    },
    {
      "cell_type": "markdown",
      "metadata": {
        "id": "_3zJaimWx9ea"
      },
      "source": [
        "Classification accuracy on test set and F1-score (averaged as well as per-class; F-score may be more relevant when dataset is imbalanced):"
      ]
    },
    {
      "cell_type": "code",
      "metadata": {
        "colab": {
          "base_uri": "https://localhost:8080/"
        },
        "id": "TlAzb_tBW6Z8",
        "outputId": "0a3573df-35ef-4f33-8f68-a9c7ad1a4e57"
      },
      "source": [
        "y_pred = abc.predict(X_test)\n",
        "acc = abc.score(X_test,y_test)\n",
        "f1_perclass = f1_score(y_test,y_pred,average=None,labels=y_train.unique())\n",
        "f1_avg = f1_score(y_test,y_pred,average='weighted')\n",
        "\n",
        "print('Clf accuracy:',acc, '\\nMean F1-score:',f1_avg)\n",
        "for c,f1 in sorted(zip(y_train.unique(),f1_perclass),key=lambda f: f[0]): print(c,f1)"
      ],
      "execution_count": 48,
      "outputs": [
        {
          "output_type": "stream",
          "name": "stdout",
          "text": [
            "Class. Accuracy: 0.8802816901408451 \n",
            "Mean F1-score: 0.8674478242001026\n",
            "1.0 0.9285714285714285\n",
            "2.0 0.7058823529411764\n",
            "3.0 0.5599999999999999\n"
          ]
        }
      ]
    },
    {
      "cell_type": "markdown",
      "metadata": {
        "id": "PU92ZUkjx5HS"
      },
      "source": [
        "Feature-wise importance for classification:"
      ]
    },
    {
      "cell_type": "code",
      "metadata": {
        "id": "v85cXtFYXMd2",
        "colab": {
          "base_uri": "https://localhost:8080/"
        },
        "outputId": "d20b6a95-77b9-4121-8c34-b12662ef279a"
      },
      "source": [
        "for f,imp in sorted(zip(data.columns,list(abc.feature_importances_)),key = lambda fi: fi[1], reverse=True): print(f, imp)"
      ],
      "execution_count": 50,
      "outputs": [
        {
          "output_type": "stream",
          "name": "stdout",
          "text": [
            "abnormal_short_term_variability 0.26\n",
            "histogram_mean 0.13\n",
            "accelerations 0.09\n",
            "prolongued_decelerations 0.09\n",
            "histogram_mode 0.09\n",
            "percentage_of_time_with_abnormal_long_term_variability 0.08\n",
            "histogram_variance 0.07\n",
            "mean_value_of_short_term_variability 0.06\n",
            "fetal_movement 0.05\n",
            "baseline value 0.03\n",
            "uterine_contractions 0.02\n",
            "histogram_min 0.02\n",
            "mean_value_of_long_term_variability 0.01\n",
            "light_decelerations 0.0\n",
            "severe_decelerations 0.0\n",
            "histogram_width 0.0\n",
            "histogram_max 0.0\n",
            "histogram_number_of_peaks 0.0\n",
            "histogram_number_of_zeroes 0.0\n",
            "histogram_median 0.0\n",
            "histogram_tendency 0.0\n"
          ]
        }
      ]
    },
    {
      "cell_type": "markdown",
      "metadata": {
        "id": "ZUsV4wS8yQcf"
      },
      "source": [
        "Importance of individual features based on permutation testing"
      ]
    },
    {
      "cell_type": "code",
      "metadata": {
        "id": "OFFXK1b5X6je",
        "colab": {
          "base_uri": "https://localhost:8080/"
        },
        "outputId": "49a2d8c9-b0c7-4d53-9811-6920f5c998f8"
      },
      "source": [
        "perm_imp = permutation_importance(abc, X_train, y_train, n_repeats=10, random_state=0)\n",
        "for f,imp_mu,imp_sd in sorted(zip(data.columns,list(perm_imp.importances_mean),list(perm_imp.importances_std)),key = lambda fi: fi[1], reverse=True): print(f, imp_mu, imp_sd)"
      ],
      "execution_count": 51,
      "outputs": [
        {
          "output_type": "stream",
          "name": "stdout",
          "text": [
            "accelerations 0.043882352941176525 0.004692628394159787\n",
            "mean_value_of_short_term_variability 0.042411764705882406 0.004342196596226028\n",
            "abnormal_short_term_variability 0.0355882352941177 0.003580512422007795\n",
            "histogram_mode 0.026294117647058877 0.0012352941176470597\n",
            "histogram_mean 0.025411764705882422 0.004031021576238078\n",
            "percentage_of_time_with_abnormal_long_term_variability 0.022058823529411832 0.0036852835547475497\n",
            "prolongued_decelerations 0.019294117647058906 0.0007803823036130251\n",
            "mean_value_of_long_term_variability 0.008411764705882396 0.002004320592635399\n",
            "histogram_variance 0.005941176470588306 0.0014276071881778253\n",
            "uterine_contractions 0.002647058823529469 0.0016481089089555084\n",
            "baseline value 0.001235294117647101 0.0005549400665915839\n",
            "light_decelerations 0.0 0.0\n",
            "severe_decelerations 0.0 0.0\n",
            "histogram_width 0.0 0.0\n",
            "histogram_max 0.0 0.0\n",
            "histogram_number_of_peaks 0.0 0.0\n",
            "histogram_number_of_zeroes 0.0 0.0\n",
            "histogram_median 0.0 0.0\n",
            "histogram_tendency 0.0 0.0\n",
            "histogram_min -0.0008235294117646452 0.0005998846486579648\n",
            "fetal_movement -0.0016470588235293683 0.001199769297315937\n"
          ]
        }
      ]
    },
    {
      "cell_type": "markdown",
      "metadata": {
        "id": "iLbi92BP6wrF"
      },
      "source": [
        "## Multi-layer perceptron (MLP) classification"
      ]
    },
    {
      "cell_type": "markdown",
      "metadata": {
        "id": "vzsXv3vUyfqZ"
      },
      "source": [
        "Scaling feature values by the max absolute value per feature \n",
        "\n",
        "The scaler could be changed to StandardScaler() or other normalization types as needed."
      ]
    },
    {
      "cell_type": "code",
      "metadata": {
        "colab": {
          "base_uri": "https://localhost:8080/",
          "height": 244
        },
        "id": "MXol_hfMmEBN",
        "outputId": "8287e5bb-5dda-4ae8-a411-5cbe6f444104"
      },
      "source": [
        "## Scaling is applied to the training data, and the same scaler will be used on the test data before predictions, to avoid data leakage)\n",
        "scaler = MaxAbsScaler().fit(X_train)\n",
        "\n",
        "X_train_scaled = pd.DataFrame(scaler.transform(X_train),columns=X_train.columns)\n",
        "X_train_scaled.head()#,y_train.head()"
      ],
      "execution_count": 53,
      "outputs": [
        {
          "output_type": "execute_result",
          "data": {
            "text/html": [
              "<div>\n",
              "<style scoped>\n",
              "    .dataframe tbody tr th:only-of-type {\n",
              "        vertical-align: middle;\n",
              "    }\n",
              "\n",
              "    .dataframe tbody tr th {\n",
              "        vertical-align: top;\n",
              "    }\n",
              "\n",
              "    .dataframe thead th {\n",
              "        text-align: right;\n",
              "    }\n",
              "</style>\n",
              "<table border=\"1\" class=\"dataframe\">\n",
              "  <thead>\n",
              "    <tr style=\"text-align: right;\">\n",
              "      <th></th>\n",
              "      <th>baseline value</th>\n",
              "      <th>accelerations</th>\n",
              "      <th>fetal_movement</th>\n",
              "      <th>uterine_contractions</th>\n",
              "      <th>light_decelerations</th>\n",
              "      <th>severe_decelerations</th>\n",
              "      <th>prolongued_decelerations</th>\n",
              "      <th>abnormal_short_term_variability</th>\n",
              "      <th>mean_value_of_short_term_variability</th>\n",
              "      <th>percentage_of_time_with_abnormal_long_term_variability</th>\n",
              "      <th>mean_value_of_long_term_variability</th>\n",
              "      <th>histogram_width</th>\n",
              "      <th>histogram_min</th>\n",
              "      <th>histogram_max</th>\n",
              "      <th>histogram_number_of_peaks</th>\n",
              "      <th>histogram_number_of_zeroes</th>\n",
              "      <th>histogram_mode</th>\n",
              "      <th>histogram_mean</th>\n",
              "      <th>histogram_median</th>\n",
              "      <th>histogram_variance</th>\n",
              "      <th>histogram_tendency</th>\n",
              "    </tr>\n",
              "  </thead>\n",
              "  <tbody>\n",
              "    <tr>\n",
              "      <th>0</th>\n",
              "      <td>0.83125</td>\n",
              "      <td>0.000000</td>\n",
              "      <td>0.000000</td>\n",
              "      <td>0.857143</td>\n",
              "      <td>0.066667</td>\n",
              "      <td>0.0</td>\n",
              "      <td>0.4</td>\n",
              "      <td>0.697674</td>\n",
              "      <td>0.428571</td>\n",
              "      <td>0.000000</td>\n",
              "      <td>0.000000</td>\n",
              "      <td>0.551136</td>\n",
              "      <td>0.364780</td>\n",
              "      <td>0.651261</td>\n",
              "      <td>0.222222</td>\n",
              "      <td>0.0</td>\n",
              "      <td>0.668449</td>\n",
              "      <td>0.527473</td>\n",
              "      <td>0.564516</td>\n",
              "      <td>0.311024</td>\n",
              "      <td>0.0</td>\n",
              "    </tr>\n",
              "    <tr>\n",
              "      <th>1</th>\n",
              "      <td>0.91250</td>\n",
              "      <td>0.333333</td>\n",
              "      <td>0.000000</td>\n",
              "      <td>0.214286</td>\n",
              "      <td>0.000000</td>\n",
              "      <td>0.0</td>\n",
              "      <td>0.0</td>\n",
              "      <td>0.441860</td>\n",
              "      <td>0.142857</td>\n",
              "      <td>0.000000</td>\n",
              "      <td>0.215686</td>\n",
              "      <td>0.278409</td>\n",
              "      <td>0.792453</td>\n",
              "      <td>0.735294</td>\n",
              "      <td>0.166667</td>\n",
              "      <td>0.0</td>\n",
              "      <td>0.802139</td>\n",
              "      <td>0.835165</td>\n",
              "      <td>0.822581</td>\n",
              "      <td>0.019685</td>\n",
              "      <td>0.0</td>\n",
              "    </tr>\n",
              "    <tr>\n",
              "      <th>2</th>\n",
              "      <td>0.80625</td>\n",
              "      <td>0.000000</td>\n",
              "      <td>0.002096</td>\n",
              "      <td>0.500000</td>\n",
              "      <td>0.400000</td>\n",
              "      <td>0.0</td>\n",
              "      <td>0.4</td>\n",
              "      <td>0.779070</td>\n",
              "      <td>0.457143</td>\n",
              "      <td>0.000000</td>\n",
              "      <td>0.000000</td>\n",
              "      <td>0.454545</td>\n",
              "      <td>0.415094</td>\n",
              "      <td>0.613445</td>\n",
              "      <td>0.388889</td>\n",
              "      <td>0.0</td>\n",
              "      <td>0.561497</td>\n",
              "      <td>0.439560</td>\n",
              "      <td>0.575269</td>\n",
              "      <td>0.035433</td>\n",
              "      <td>0.0</td>\n",
              "    </tr>\n",
              "    <tr>\n",
              "      <th>3</th>\n",
              "      <td>0.83750</td>\n",
              "      <td>0.444444</td>\n",
              "      <td>0.002096</td>\n",
              "      <td>0.714286</td>\n",
              "      <td>0.400000</td>\n",
              "      <td>0.0</td>\n",
              "      <td>0.0</td>\n",
              "      <td>0.709302</td>\n",
              "      <td>0.157143</td>\n",
              "      <td>0.000000</td>\n",
              "      <td>0.090686</td>\n",
              "      <td>0.619318</td>\n",
              "      <td>0.503145</td>\n",
              "      <td>0.794118</td>\n",
              "      <td>0.555556</td>\n",
              "      <td>0.0</td>\n",
              "      <td>0.834225</td>\n",
              "      <td>0.791209</td>\n",
              "      <td>0.811828</td>\n",
              "      <td>0.240157</td>\n",
              "      <td>0.0</td>\n",
              "    </tr>\n",
              "    <tr>\n",
              "      <th>4</th>\n",
              "      <td>0.78125</td>\n",
              "      <td>0.000000</td>\n",
              "      <td>0.010482</td>\n",
              "      <td>0.071429</td>\n",
              "      <td>0.066667</td>\n",
              "      <td>0.0</td>\n",
              "      <td>0.0</td>\n",
              "      <td>0.813953</td>\n",
              "      <td>0.057143</td>\n",
              "      <td>0.318681</td>\n",
              "      <td>0.174020</td>\n",
              "      <td>0.460227</td>\n",
              "      <td>0.327044</td>\n",
              "      <td>0.558824</td>\n",
              "      <td>0.277778</td>\n",
              "      <td>0.0</td>\n",
              "      <td>0.668449</td>\n",
              "      <td>0.675824</td>\n",
              "      <td>0.672043</td>\n",
              "      <td>0.007874</td>\n",
              "      <td>1.0</td>\n",
              "    </tr>\n",
              "  </tbody>\n",
              "</table>\n",
              "</div>"
            ],
            "text/plain": [
              "   baseline value  accelerations  ...  histogram_variance  histogram_tendency\n",
              "0         0.83125       0.000000  ...            0.311024                 0.0\n",
              "1         0.91250       0.333333  ...            0.019685                 0.0\n",
              "2         0.80625       0.000000  ...            0.035433                 0.0\n",
              "3         0.83750       0.444444  ...            0.240157                 0.0\n",
              "4         0.78125       0.000000  ...            0.007874                 1.0\n",
              "\n",
              "[5 rows x 21 columns]"
            ]
          },
          "metadata": {},
          "execution_count": 53
        }
      ]
    },
    {
      "cell_type": "markdown",
      "metadata": {
        "id": "szncST-Czzjh"
      },
      "source": [
        "Applying fully-connected neural net classifier with two 100-unit hidden layers to the scaled training data; alpha is a regularization parameter which may be tuned to mitigate overfitting:"
      ]
    },
    {
      "cell_type": "code",
      "metadata": {
        "colab": {
          "base_uri": "https://localhost:8080/"
        },
        "id": "ZARwt4wsaefF",
        "outputId": "0454eb68-dea6-4bea-bb69-6f38d061614e"
      },
      "source": [
        "mlpc = MLPClassifier(hidden_layer_sizes=(100,100),random_state=42, max_iter=1000,solver=\"adam\",alpha=0.1)\n",
        "mlpc.fit(X_train_scaled, y_train)"
      ],
      "execution_count": 74,
      "outputs": [
        {
          "output_type": "execute_result",
          "data": {
            "text/plain": [
              "MLPClassifier(activation='relu', alpha=0.1, batch_size='auto', beta_1=0.9,\n",
              "              beta_2=0.999, early_stopping=False, epsilon=1e-08,\n",
              "              hidden_layer_sizes=(100, 100), learning_rate='constant',\n",
              "              learning_rate_init=0.001, max_fun=15000, max_iter=1000,\n",
              "              momentum=0.9, n_iter_no_change=10, nesterovs_momentum=True,\n",
              "              power_t=0.5, random_state=42, shuffle=True, solver='adam',\n",
              "              tol=0.0001, validation_fraction=0.1, verbose=False,\n",
              "              warm_start=False)"
            ]
          },
          "metadata": {},
          "execution_count": 74
        }
      ]
    },
    {
      "cell_type": "markdown",
      "metadata": {
        "id": "8U9JQAxn3fwz"
      },
      "source": [
        "Performance on held-out test set (max of softmax class probabilities per test sample):"
      ]
    },
    {
      "cell_type": "code",
      "metadata": {
        "colab": {
          "base_uri": "https://localhost:8080/"
        },
        "id": "XO7bq86jfWEu",
        "outputId": "8e3b7bef-157d-4e70-c410-ebd24b37a0e1"
      },
      "source": [
        "X_test_scaled = pd.DataFrame(scaler.transform(X_test),columns=X_test.columns)\n",
        "\n",
        "y_pred = mlpc.predict(X_test_scaled)\n",
        "acc = mlpc.score(X_test_scaled,y_test)\n",
        "f1_perclass = f1_score(y_test,y_pred,average=None,labels=y_train.unique())\n",
        "f1_avg = f1_score(y_test,y_pred,average='weighted')\n",
        "\n",
        "print('Clf accuracy:',acc, '\\nMean F1-score:',f1_avg)\n",
        "for c,f1 in sorted(zip(y_train.unique(),f1_perclass),key=lambda f: f[0]): print(c,f1)"
      ],
      "execution_count": 76,
      "outputs": [
        {
          "output_type": "stream",
          "name": "stdout",
          "text": [
            "Class. Accuracy: 0.8873239436619719 \n",
            "Mean F1-score: 0.8899420061932886\n",
            "1.0 0.937784522003035\n",
            "2.0 0.6666666666666667\n",
            "3.0 0.8125\n"
          ]
        }
      ]
    },
    {
      "cell_type": "markdown",
      "metadata": {
        "id": "Tq2Es8IN37h0"
      },
      "source": [
        "## Multi-class logistic regression as a baseline classifier"
      ]
    },
    {
      "cell_type": "markdown",
      "metadata": {
        "id": "LmnzGNmy4Ilw"
      },
      "source": [
        "Standardization of numerial feature values:"
      ]
    },
    {
      "cell_type": "code",
      "metadata": {
        "colab": {
          "base_uri": "https://localhost:8080/"
        },
        "id": "uUyXOYRPCCxV",
        "outputId": "98670b89-a981-4e7d-cf71-f213beb41228"
      },
      "source": [
        "## Scaling is applied to the training data, and the same scaler will be used on the test data before predictions, to avoid data leakage)\n",
        "stdscaler = StandardScaler().fit(X_train)\n",
        "X_train_stdscaled = stdscaler.transform(X_train)\n",
        "\n",
        "## Default is L2 regularization; C: inverse of reg. strength (penalty on model complexity/flexibility). \n",
        "## Here, C is fixed, but could be potentially optimized via crossvalidation.\n",
        "\n",
        "lrc = LogisticRegression(C=1.0,random_state=42,max_iter=1000,class_weight='balanced')\n",
        "lrc.fit(X_train_stdscaled, y_train)"
      ],
      "execution_count": 72,
      "outputs": [
        {
          "output_type": "execute_result",
          "data": {
            "text/plain": [
              "LogisticRegression(C=1.0, class_weight='balanced', dual=False,\n",
              "                   fit_intercept=True, intercept_scaling=1, l1_ratio=None,\n",
              "                   max_iter=1000, multi_class='auto', n_jobs=None, penalty='l2',\n",
              "                   random_state=42, solver='lbfgs', tol=0.0001, verbose=0,\n",
              "                   warm_start=False)"
            ]
          },
          "metadata": {},
          "execution_count": 72
        }
      ]
    },
    {
      "cell_type": "markdown",
      "metadata": {
        "id": "8no8Sy5R4xQO"
      },
      "source": [
        "Performance on held-out test/reporting set:"
      ]
    },
    {
      "cell_type": "code",
      "metadata": {
        "colab": {
          "base_uri": "https://localhost:8080/"
        },
        "id": "nkonIwChCDZw",
        "outputId": "eb161921-7a0d-42bc-a316-89980d82131c"
      },
      "source": [
        "## Scaling test instances w.r.t. the training set:\n",
        "X_test_stdscaled = pd.DataFrame(stdscaler.transform(X_test),columns=X_test.columns)\n",
        "\n",
        "y_pred = lrc.predict(X_test_stdscaled)\n",
        "#y_proba = lrc.predict_proba(X_test_stdscaled)\n",
        "acc = lrc.score(X_test_stdscaled,y_test)\n",
        "f1_perclass = f1_score(y_test,y_pred,average=None,labels=y_train.unique())\n",
        "f1_avg = f1_score(y_test,y_pred,average='weighted')\n",
        "\n",
        "print('Clf accuracy:',acc, '\\nMean F1-score:',f1_avg)\n",
        "for c,f1 in sorted(zip(classes,f1_perclass),key=lambda f: f[0]): print(c,f1)"
      ],
      "execution_count": 86,
      "outputs": [
        {
          "output_type": "stream",
          "name": "stdout",
          "text": [
            "Class. Accuracy: 0.8568075117370892 \n",
            "Mean F1-score: 0.869425995427322\n",
            "1.0 0.9196141479099679\n",
            "2.0 0.7792207792207793\n",
            "3.0 0.6405228758169934\n"
          ]
        }
      ]
    },
    {
      "cell_type": "markdown",
      "metadata": {
        "id": "QJ0rQ3E_nzzc"
      },
      "source": [
        "\n",
        "\n",
        "---\n",
        "\n"
      ]
    },
    {
      "cell_type": "markdown",
      "metadata": {
        "id": "UftW7hLHtboX"
      },
      "source": [
        "## Example 2: Brain cancer gene expression dataset\n"
      ]
    },
    {
      "cell_type": "markdown",
      "metadata": {
        "id": "4slDdr2RPTm-"
      },
      "source": [
        "This example works with a public microarray dataset of 130 brain samples (5 cancer types + normal) from the [CuMiDa](https://sbcb.inf.ufrgs.br/cumida) database (GEO accession GSE50161, downloaded via [Kaggle](https://www.kaggle.com/brunogrisci/brain-cancer-gene-expression-cumida)).\n",
        "\n",
        "\n",
        "---\n",
        "\n"
      ]
    },
    {
      "cell_type": "markdown",
      "metadata": {
        "id": "KAEmXSe6Gs3b"
      },
      "source": [
        "**Load data, prepare input/label arrays**"
      ]
    },
    {
      "cell_type": "code",
      "metadata": {
        "id": "HPHKQXD2trDQ"
      },
      "source": [
        "gex = pd.read_csv('/content/drive/My Drive/Downloaded_Datasets/Brain_GSE50161.csv')"
      ],
      "execution_count": 87,
      "outputs": []
    },
    {
      "cell_type": "code",
      "metadata": {
        "colab": {
          "base_uri": "https://localhost:8080/",
          "height": 326
        },
        "id": "NywA549jt7h0",
        "outputId": "2cfa3ab6-79f9-4de5-ebf9-97704b5473e0"
      },
      "source": [
        "print(gex.shape)\n",
        "gex.head()"
      ],
      "execution_count": 88,
      "outputs": [
        {
          "output_type": "stream",
          "name": "stdout",
          "text": [
            "(130, 54677)\n"
          ]
        },
        {
          "output_type": "execute_result",
          "data": {
            "text/html": [
              "<div>\n",
              "<style scoped>\n",
              "    .dataframe tbody tr th:only-of-type {\n",
              "        vertical-align: middle;\n",
              "    }\n",
              "\n",
              "    .dataframe tbody tr th {\n",
              "        vertical-align: top;\n",
              "    }\n",
              "\n",
              "    .dataframe thead th {\n",
              "        text-align: right;\n",
              "    }\n",
              "</style>\n",
              "<table border=\"1\" class=\"dataframe\">\n",
              "  <thead>\n",
              "    <tr style=\"text-align: right;\">\n",
              "      <th></th>\n",
              "      <th>samples</th>\n",
              "      <th>type</th>\n",
              "      <th>1007_s_at</th>\n",
              "      <th>1053_at</th>\n",
              "      <th>117_at</th>\n",
              "      <th>121_at</th>\n",
              "      <th>1255_g_at</th>\n",
              "      <th>1294_at</th>\n",
              "      <th>1316_at</th>\n",
              "      <th>1320_at</th>\n",
              "      <th>1405_i_at</th>\n",
              "      <th>1431_at</th>\n",
              "      <th>1438_at</th>\n",
              "      <th>1487_at</th>\n",
              "      <th>1494_f_at</th>\n",
              "      <th>1552256_a_at</th>\n",
              "      <th>1552257_a_at</th>\n",
              "      <th>1552258_at</th>\n",
              "      <th>1552261_at</th>\n",
              "      <th>1552263_at</th>\n",
              "      <th>1552264_a_at</th>\n",
              "      <th>1552266_at</th>\n",
              "      <th>1552269_at</th>\n",
              "      <th>1552271_at</th>\n",
              "      <th>1552272_a_at</th>\n",
              "      <th>1552274_at</th>\n",
              "      <th>1552275_s_at</th>\n",
              "      <th>1552276_a_at</th>\n",
              "      <th>1552277_a_at</th>\n",
              "      <th>1552278_a_at</th>\n",
              "      <th>1552279_a_at</th>\n",
              "      <th>1552280_at</th>\n",
              "      <th>1552281_at</th>\n",
              "      <th>1552283_s_at</th>\n",
              "      <th>1552286_at</th>\n",
              "      <th>1552287_s_at</th>\n",
              "      <th>1552288_at</th>\n",
              "      <th>1552289_a_at</th>\n",
              "      <th>1552291_at</th>\n",
              "      <th>1552293_at</th>\n",
              "      <th>...</th>\n",
              "      <th>AFFX-HUMISGF3A/M97935_MB_at</th>\n",
              "      <th>AFFX-HUMRGE/M10098_3_at</th>\n",
              "      <th>AFFX-HUMRGE/M10098_5_at</th>\n",
              "      <th>AFFX-HUMRGE/M10098_M_at</th>\n",
              "      <th>AFFX-LysX-3_at</th>\n",
              "      <th>AFFX-LysX-5_at</th>\n",
              "      <th>AFFX-LysX-M_at</th>\n",
              "      <th>AFFX-M27830_3_at</th>\n",
              "      <th>AFFX-M27830_5_at</th>\n",
              "      <th>AFFX-M27830_M_at</th>\n",
              "      <th>AFFX-PheX-3_at</th>\n",
              "      <th>AFFX-PheX-5_at</th>\n",
              "      <th>AFFX-PheX-M_at</th>\n",
              "      <th>AFFX-r2-Bs-dap-3_at</th>\n",
              "      <th>AFFX-r2-Bs-dap-5_at</th>\n",
              "      <th>AFFX-r2-Bs-dap-M_at</th>\n",
              "      <th>AFFX-r2-Bs-lys-3_at</th>\n",
              "      <th>AFFX-r2-Bs-lys-5_at</th>\n",
              "      <th>AFFX-r2-Bs-lys-M_at</th>\n",
              "      <th>AFFX-r2-Bs-phe-3_at</th>\n",
              "      <th>AFFX-r2-Bs-phe-5_at</th>\n",
              "      <th>AFFX-r2-Bs-phe-M_at</th>\n",
              "      <th>AFFX-r2-Bs-thr-3_s_at</th>\n",
              "      <th>AFFX-r2-Bs-thr-5_s_at</th>\n",
              "      <th>AFFX-r2-Bs-thr-M_s_at</th>\n",
              "      <th>AFFX-r2-Ec-bioB-3_at</th>\n",
              "      <th>AFFX-r2-Ec-bioB-5_at</th>\n",
              "      <th>AFFX-r2-Ec-bioB-M_at</th>\n",
              "      <th>AFFX-r2-Ec-bioC-3_at</th>\n",
              "      <th>AFFX-r2-Ec-bioC-5_at</th>\n",
              "      <th>AFFX-r2-Ec-bioD-3_at</th>\n",
              "      <th>AFFX-r2-Ec-bioD-5_at</th>\n",
              "      <th>AFFX-r2-P1-cre-3_at</th>\n",
              "      <th>AFFX-r2-P1-cre-5_at</th>\n",
              "      <th>AFFX-ThrX-3_at</th>\n",
              "      <th>AFFX-ThrX-5_at</th>\n",
              "      <th>AFFX-ThrX-M_at</th>\n",
              "      <th>AFFX-TrpnX-3_at</th>\n",
              "      <th>AFFX-TrpnX-5_at</th>\n",
              "      <th>AFFX-TrpnX-M_at</th>\n",
              "    </tr>\n",
              "  </thead>\n",
              "  <tbody>\n",
              "    <tr>\n",
              "      <th>0</th>\n",
              "      <td>834</td>\n",
              "      <td>ependymoma</td>\n",
              "      <td>12.498150</td>\n",
              "      <td>7.604868</td>\n",
              "      <td>6.880934</td>\n",
              "      <td>9.027128</td>\n",
              "      <td>4.176175</td>\n",
              "      <td>7.224920</td>\n",
              "      <td>6.085942</td>\n",
              "      <td>6.835999</td>\n",
              "      <td>5.898355</td>\n",
              "      <td>5.513410</td>\n",
              "      <td>7.541986</td>\n",
              "      <td>7.905140</td>\n",
              "      <td>7.108117</td>\n",
              "      <td>8.386617</td>\n",
              "      <td>8.412090</td>\n",
              "      <td>6.560058</td>\n",
              "      <td>5.779307</td>\n",
              "      <td>5.596102</td>\n",
              "      <td>9.128874</td>\n",
              "      <td>6.822846</td>\n",
              "      <td>8.222273</td>\n",
              "      <td>5.965720</td>\n",
              "      <td>6.070791</td>\n",
              "      <td>6.522746</td>\n",
              "      <td>7.031419</td>\n",
              "      <td>6.514768</td>\n",
              "      <td>8.333490</td>\n",
              "      <td>6.699891</td>\n",
              "      <td>8.290555</td>\n",
              "      <td>6.330756</td>\n",
              "      <td>7.429331</td>\n",
              "      <td>8.271134</td>\n",
              "      <td>6.889821</td>\n",
              "      <td>6.789864</td>\n",
              "      <td>6.332943</td>\n",
              "      <td>6.743534</td>\n",
              "      <td>7.683195</td>\n",
              "      <td>6.725073</td>\n",
              "      <td>...</td>\n",
              "      <td>7.452986</td>\n",
              "      <td>6.286898</td>\n",
              "      <td>4.769155</td>\n",
              "      <td>4.687528</td>\n",
              "      <td>3.754204</td>\n",
              "      <td>3.896775</td>\n",
              "      <td>4.473275</td>\n",
              "      <td>8.171548</td>\n",
              "      <td>6.060622</td>\n",
              "      <td>8.841900</td>\n",
              "      <td>5.902276</td>\n",
              "      <td>3.907297</td>\n",
              "      <td>3.882678</td>\n",
              "      <td>3.890110</td>\n",
              "      <td>3.668144</td>\n",
              "      <td>3.390117</td>\n",
              "      <td>3.953972</td>\n",
              "      <td>3.529272</td>\n",
              "      <td>3.563981</td>\n",
              "      <td>4.574315</td>\n",
              "      <td>3.828851</td>\n",
              "      <td>4.483687</td>\n",
              "      <td>5.011438</td>\n",
              "      <td>5.773626</td>\n",
              "      <td>4.827817</td>\n",
              "      <td>5.877779</td>\n",
              "      <td>6.714268</td>\n",
              "      <td>6.080413</td>\n",
              "      <td>7.475681</td>\n",
              "      <td>7.086287</td>\n",
              "      <td>9.979005</td>\n",
              "      <td>9.926470</td>\n",
              "      <td>12.719785</td>\n",
              "      <td>12.777792</td>\n",
              "      <td>5.403657</td>\n",
              "      <td>4.870548</td>\n",
              "      <td>4.047380</td>\n",
              "      <td>3.721936</td>\n",
              "      <td>4.516434</td>\n",
              "      <td>4.749940</td>\n",
              "    </tr>\n",
              "    <tr>\n",
              "      <th>1</th>\n",
              "      <td>835</td>\n",
              "      <td>ependymoma</td>\n",
              "      <td>13.067436</td>\n",
              "      <td>7.998090</td>\n",
              "      <td>7.209076</td>\n",
              "      <td>9.723322</td>\n",
              "      <td>4.826126</td>\n",
              "      <td>7.539381</td>\n",
              "      <td>6.250962</td>\n",
              "      <td>8.012549</td>\n",
              "      <td>5.453147</td>\n",
              "      <td>6.173106</td>\n",
              "      <td>8.317030</td>\n",
              "      <td>8.269136</td>\n",
              "      <td>7.250662</td>\n",
              "      <td>9.208559</td>\n",
              "      <td>8.466202</td>\n",
              "      <td>5.822008</td>\n",
              "      <td>5.862887</td>\n",
              "      <td>5.573160</td>\n",
              "      <td>8.853524</td>\n",
              "      <td>5.855870</td>\n",
              "      <td>6.914568</td>\n",
              "      <td>6.856960</td>\n",
              "      <td>7.268411</td>\n",
              "      <td>7.805840</td>\n",
              "      <td>7.953560</td>\n",
              "      <td>7.049230</td>\n",
              "      <td>7.985905</td>\n",
              "      <td>8.285225</td>\n",
              "      <td>9.759504</td>\n",
              "      <td>5.638496</td>\n",
              "      <td>7.963333</td>\n",
              "      <td>6.503762</td>\n",
              "      <td>7.413667</td>\n",
              "      <td>8.128855</td>\n",
              "      <td>5.010720</td>\n",
              "      <td>6.483549</td>\n",
              "      <td>7.349033</td>\n",
              "      <td>6.153470</td>\n",
              "      <td>...</td>\n",
              "      <td>9.122687</td>\n",
              "      <td>6.487188</td>\n",
              "      <td>5.011087</td>\n",
              "      <td>5.125493</td>\n",
              "      <td>3.459905</td>\n",
              "      <td>3.475047</td>\n",
              "      <td>4.250283</td>\n",
              "      <td>8.026929</td>\n",
              "      <td>7.974346</td>\n",
              "      <td>9.139429</td>\n",
              "      <td>6.088559</td>\n",
              "      <td>3.955786</td>\n",
              "      <td>3.744942</td>\n",
              "      <td>3.475500</td>\n",
              "      <td>3.545111</td>\n",
              "      <td>3.288044</td>\n",
              "      <td>3.798083</td>\n",
              "      <td>3.465220</td>\n",
              "      <td>3.398081</td>\n",
              "      <td>4.279519</td>\n",
              "      <td>3.365857</td>\n",
              "      <td>3.673009</td>\n",
              "      <td>4.822057</td>\n",
              "      <td>5.048771</td>\n",
              "      <td>4.988880</td>\n",
              "      <td>7.645660</td>\n",
              "      <td>7.913366</td>\n",
              "      <td>7.398476</td>\n",
              "      <td>9.145736</td>\n",
              "      <td>9.137122</td>\n",
              "      <td>11.924749</td>\n",
              "      <td>11.215930</td>\n",
              "      <td>13.605662</td>\n",
              "      <td>13.401342</td>\n",
              "      <td>5.224555</td>\n",
              "      <td>4.895315</td>\n",
              "      <td>3.786437</td>\n",
              "      <td>3.564481</td>\n",
              "      <td>4.430891</td>\n",
              "      <td>4.491416</td>\n",
              "    </tr>\n",
              "    <tr>\n",
              "      <th>2</th>\n",
              "      <td>836</td>\n",
              "      <td>ependymoma</td>\n",
              "      <td>13.068179</td>\n",
              "      <td>8.573674</td>\n",
              "      <td>8.647684</td>\n",
              "      <td>9.613002</td>\n",
              "      <td>4.396581</td>\n",
              "      <td>7.813101</td>\n",
              "      <td>6.007746</td>\n",
              "      <td>7.178156</td>\n",
              "      <td>8.400266</td>\n",
              "      <td>6.323471</td>\n",
              "      <td>7.661874</td>\n",
              "      <td>8.327897</td>\n",
              "      <td>7.557231</td>\n",
              "      <td>9.344553</td>\n",
              "      <td>9.161303</td>\n",
              "      <td>6.352456</td>\n",
              "      <td>5.703981</td>\n",
              "      <td>6.296894</td>\n",
              "      <td>8.912298</td>\n",
              "      <td>6.115325</td>\n",
              "      <td>6.706525</td>\n",
              "      <td>7.236168</td>\n",
              "      <td>7.062774</td>\n",
              "      <td>7.702766</td>\n",
              "      <td>7.713712</td>\n",
              "      <td>7.146639</td>\n",
              "      <td>8.958272</td>\n",
              "      <td>5.966615</td>\n",
              "      <td>8.235646</td>\n",
              "      <td>5.393936</td>\n",
              "      <td>8.168913</td>\n",
              "      <td>7.446118</td>\n",
              "      <td>7.032315</td>\n",
              "      <td>7.511554</td>\n",
              "      <td>5.241585</td>\n",
              "      <td>6.878393</td>\n",
              "      <td>7.881382</td>\n",
              "      <td>6.073385</td>\n",
              "      <td>...</td>\n",
              "      <td>9.822739</td>\n",
              "      <td>6.453939</td>\n",
              "      <td>4.549771</td>\n",
              "      <td>4.578991</td>\n",
              "      <td>3.512840</td>\n",
              "      <td>3.480678</td>\n",
              "      <td>4.457866</td>\n",
              "      <td>8.097331</td>\n",
              "      <td>7.070830</td>\n",
              "      <td>9.434220</td>\n",
              "      <td>6.109699</td>\n",
              "      <td>4.096394</td>\n",
              "      <td>3.813011</td>\n",
              "      <td>3.387800</td>\n",
              "      <td>3.579731</td>\n",
              "      <td>3.307294</td>\n",
              "      <td>3.639748</td>\n",
              "      <td>3.256938</td>\n",
              "      <td>3.377463</td>\n",
              "      <td>4.280787</td>\n",
              "      <td>3.434739</td>\n",
              "      <td>3.541582</td>\n",
              "      <td>4.877465</td>\n",
              "      <td>5.268649</td>\n",
              "      <td>5.395714</td>\n",
              "      <td>7.933271</td>\n",
              "      <td>8.191778</td>\n",
              "      <td>7.930424</td>\n",
              "      <td>9.689873</td>\n",
              "      <td>9.609895</td>\n",
              "      <td>12.154405</td>\n",
              "      <td>11.532460</td>\n",
              "      <td>13.764593</td>\n",
              "      <td>13.477800</td>\n",
              "      <td>5.303565</td>\n",
              "      <td>5.052184</td>\n",
              "      <td>4.005343</td>\n",
              "      <td>3.595382</td>\n",
              "      <td>4.563494</td>\n",
              "      <td>4.668827</td>\n",
              "    </tr>\n",
              "    <tr>\n",
              "      <th>3</th>\n",
              "      <td>837</td>\n",
              "      <td>ependymoma</td>\n",
              "      <td>12.456040</td>\n",
              "      <td>9.098977</td>\n",
              "      <td>6.628784</td>\n",
              "      <td>8.517677</td>\n",
              "      <td>4.154847</td>\n",
              "      <td>8.361843</td>\n",
              "      <td>6.596064</td>\n",
              "      <td>6.347285</td>\n",
              "      <td>4.900380</td>\n",
              "      <td>6.008684</td>\n",
              "      <td>7.663790</td>\n",
              "      <td>7.730238</td>\n",
              "      <td>6.890946</td>\n",
              "      <td>8.996408</td>\n",
              "      <td>7.967699</td>\n",
              "      <td>5.565398</td>\n",
              "      <td>5.656941</td>\n",
              "      <td>7.255397</td>\n",
              "      <td>7.725901</td>\n",
              "      <td>5.835465</td>\n",
              "      <td>8.985858</td>\n",
              "      <td>6.688773</td>\n",
              "      <td>6.582501</td>\n",
              "      <td>7.073578</td>\n",
              "      <td>7.603237</td>\n",
              "      <td>6.420513</td>\n",
              "      <td>9.477679</td>\n",
              "      <td>5.921865</td>\n",
              "      <td>7.775342</td>\n",
              "      <td>4.808373</td>\n",
              "      <td>7.077664</td>\n",
              "      <td>8.321482</td>\n",
              "      <td>7.732976</td>\n",
              "      <td>9.187663</td>\n",
              "      <td>4.644900</td>\n",
              "      <td>6.021278</td>\n",
              "      <td>8.720681</td>\n",
              "      <td>6.124541</td>\n",
              "      <td>...</td>\n",
              "      <td>8.028984</td>\n",
              "      <td>11.005884</td>\n",
              "      <td>12.747103</td>\n",
              "      <td>11.065442</td>\n",
              "      <td>3.516075</td>\n",
              "      <td>3.584663</td>\n",
              "      <td>4.171380</td>\n",
              "      <td>7.079637</td>\n",
              "      <td>12.800238</td>\n",
              "      <td>10.747585</td>\n",
              "      <td>6.509987</td>\n",
              "      <td>4.243607</td>\n",
              "      <td>3.820466</td>\n",
              "      <td>3.584356</td>\n",
              "      <td>3.917221</td>\n",
              "      <td>3.455213</td>\n",
              "      <td>3.802537</td>\n",
              "      <td>3.803922</td>\n",
              "      <td>3.467714</td>\n",
              "      <td>4.268587</td>\n",
              "      <td>3.380387</td>\n",
              "      <td>3.593411</td>\n",
              "      <td>4.956109</td>\n",
              "      <td>4.774260</td>\n",
              "      <td>4.626221</td>\n",
              "      <td>8.613308</td>\n",
              "      <td>8.654348</td>\n",
              "      <td>8.623225</td>\n",
              "      <td>9.913409</td>\n",
              "      <td>9.644685</td>\n",
              "      <td>11.969072</td>\n",
              "      <td>11.288801</td>\n",
              "      <td>13.600828</td>\n",
              "      <td>13.379029</td>\n",
              "      <td>4.953429</td>\n",
              "      <td>4.708371</td>\n",
              "      <td>3.892318</td>\n",
              "      <td>3.759429</td>\n",
              "      <td>4.748381</td>\n",
              "      <td>4.521275</td>\n",
              "    </tr>\n",
              "    <tr>\n",
              "      <th>4</th>\n",
              "      <td>838</td>\n",
              "      <td>ependymoma</td>\n",
              "      <td>12.699958</td>\n",
              "      <td>8.800721</td>\n",
              "      <td>11.556188</td>\n",
              "      <td>9.166309</td>\n",
              "      <td>4.165891</td>\n",
              "      <td>7.923826</td>\n",
              "      <td>6.212754</td>\n",
              "      <td>6.866387</td>\n",
              "      <td>5.405628</td>\n",
              "      <td>5.279579</td>\n",
              "      <td>9.521956</td>\n",
              "      <td>7.581397</td>\n",
              "      <td>6.927562</td>\n",
              "      <td>10.040652</td>\n",
              "      <td>9.611351</td>\n",
              "      <td>5.993222</td>\n",
              "      <td>5.874362</td>\n",
              "      <td>6.635761</td>\n",
              "      <td>9.721766</td>\n",
              "      <td>5.603343</td>\n",
              "      <td>8.221752</td>\n",
              "      <td>5.950401</td>\n",
              "      <td>5.752766</td>\n",
              "      <td>7.916434</td>\n",
              "      <td>8.139826</td>\n",
              "      <td>6.739943</td>\n",
              "      <td>9.620339</td>\n",
              "      <td>6.869073</td>\n",
              "      <td>8.265623</td>\n",
              "      <td>5.538281</td>\n",
              "      <td>7.522460</td>\n",
              "      <td>7.407162</td>\n",
              "      <td>7.253496</td>\n",
              "      <td>7.067481</td>\n",
              "      <td>5.702077</td>\n",
              "      <td>6.519492</td>\n",
              "      <td>8.179811</td>\n",
              "      <td>6.222004</td>\n",
              "      <td>...</td>\n",
              "      <td>9.086955</td>\n",
              "      <td>6.172889</td>\n",
              "      <td>5.258776</td>\n",
              "      <td>5.393915</td>\n",
              "      <td>3.549031</td>\n",
              "      <td>3.566336</td>\n",
              "      <td>4.359560</td>\n",
              "      <td>7.664900</td>\n",
              "      <td>7.256066</td>\n",
              "      <td>9.033989</td>\n",
              "      <td>5.801538</td>\n",
              "      <td>3.934145</td>\n",
              "      <td>3.865816</td>\n",
              "      <td>3.500392</td>\n",
              "      <td>3.828196</td>\n",
              "      <td>3.649669</td>\n",
              "      <td>3.620477</td>\n",
              "      <td>3.712344</td>\n",
              "      <td>3.488495</td>\n",
              "      <td>4.157682</td>\n",
              "      <td>3.536042</td>\n",
              "      <td>4.355079</td>\n",
              "      <td>4.934517</td>\n",
              "      <td>5.230971</td>\n",
              "      <td>4.847577</td>\n",
              "      <td>7.401751</td>\n",
              "      <td>8.019437</td>\n",
              "      <td>7.785604</td>\n",
              "      <td>8.819330</td>\n",
              "      <td>9.121005</td>\n",
              "      <td>11.411701</td>\n",
              "      <td>11.169317</td>\n",
              "      <td>13.751442</td>\n",
              "      <td>13.803646</td>\n",
              "      <td>4.892677</td>\n",
              "      <td>4.773806</td>\n",
              "      <td>3.796856</td>\n",
              "      <td>3.577544</td>\n",
              "      <td>4.504385</td>\n",
              "      <td>4.541450</td>\n",
              "    </tr>\n",
              "  </tbody>\n",
              "</table>\n",
              "<p>5 rows × 54677 columns</p>\n",
              "</div>"
            ],
            "text/plain": [
              "   samples        type  ...  AFFX-TrpnX-5_at  AFFX-TrpnX-M_at\n",
              "0      834  ependymoma  ...         4.516434         4.749940\n",
              "1      835  ependymoma  ...         4.430891         4.491416\n",
              "2      836  ependymoma  ...         4.563494         4.668827\n",
              "3      837  ependymoma  ...         4.748381         4.521275\n",
              "4      838  ependymoma  ...         4.504385         4.541450\n",
              "\n",
              "[5 rows x 54677 columns]"
            ]
          },
          "metadata": {},
          "execution_count": 88
        }
      ]
    },
    {
      "cell_type": "markdown",
      "metadata": {
        "id": "67eSRuT4MFdD"
      },
      "source": [
        "Listing all classes in the dataset:"
      ]
    },
    {
      "cell_type": "code",
      "metadata": {
        "colab": {
          "base_uri": "https://localhost:8080/"
        },
        "id": "jJ9VSpsk65ln",
        "outputId": "8ef5323d-0244-473f-a04a-8e6242686747"
      },
      "source": [
        "## 'type': Column listing labels/classes\n",
        "classes = list(gex.type.unique())\n",
        "for c,n in Counter(gex.type).items(): print(c,n)"
      ],
      "execution_count": 93,
      "outputs": [
        {
          "output_type": "stream",
          "name": "stdout",
          "text": [
            "ependymoma 46\n",
            "glioblastoma 34\n",
            "medulloblastoma 22\n",
            "normal 13\n",
            "pilocytic_astrocytoma 15\n"
          ]
        }
      ]
    },
    {
      "cell_type": "markdown",
      "metadata": {
        "id": "4xBYNfxiHVh-"
      },
      "source": [
        "Making a numerical matrix of probe expression values (X: samples x features format) and a vector of class samples (y)"
      ]
    },
    {
      "cell_type": "code",
      "metadata": {
        "id": "fOAKm8pg7XmV"
      },
      "source": [
        "X = gex.drop(columns=['samples','type'])\n",
        "y = gex.type"
      ],
      "execution_count": 96,
      "outputs": []
    },
    {
      "cell_type": "code",
      "metadata": {
        "id": "jE47vGsYAZhu",
        "colab": {
          "base_uri": "https://localhost:8080/",
          "height": 301
        },
        "outputId": "315ab1ea-6f58-47ba-af91-ba97eb218309"
      },
      "source": [
        "## Checking for normalization of expression values across samples:\n",
        "\n",
        "sample_wise_mean = X.mean(axis=1)\n",
        "sample_wise_sd = X.std(axis=1)\n",
        "\n",
        "fig, ax = plt.subplots(figsize=(4, 4))\n",
        "plt.plot(sample_wise_mean,'.',label='Sample mean')\n",
        "plt.plot(sample_wise_sd,'.',label='Sample SD')\n",
        "plt.ylim([0,10])\n",
        "plt.xlabel('Sample #')\n",
        "plt.legend(loc='best')"
      ],
      "execution_count": 201,
      "outputs": [
        {
          "output_type": "execute_result",
          "data": {
            "text/plain": [
              "<matplotlib.legend.Legend at 0x7f2817cd9410>"
            ]
          },
          "metadata": {},
          "execution_count": 201
        },
        {
          "output_type": "display_data",
          "data": {
            "image/png": "[encoded data removed]",
            "text/plain": [
              "<Figure size 288x288 with 1 Axes>"
            ]
          },
          "metadata": {
            "needs_background": "light"
          }
        }
      ]
    },
    {
      "cell_type": "markdown",
      "metadata": {
        "id": "M0CcjgoSKko8"
      },
      "source": [
        "---\n",
        "\n",
        "**Feature selection**\n",
        "\n",
        "As num_features (probes) >> num_samples, some feature selection/regularization is needed to visualize the data distribution and avoid model overfitting. To start with, only the probes with highest across-sample variance of expression values (top n_probes) are retained for subsequent analysis:"
      ]
    },
    {
      "cell_type": "code",
      "metadata": {
        "colab": {
          "base_uri": "https://localhost:8080/",
          "height": 273
        },
        "id": "O7-1xAhEs8It",
        "outputId": "3b2fc70e-eb46-4009-a007-ab3f76c34b62"
      },
      "source": [
        "## Selecting probes with highest variance across samples (top 500 here):\n",
        "probe_wise_sd = X.std(axis=0)\n",
        "\n",
        "n_probes = 500 \n",
        "max_var_probes = [p for p,v in sorted(zip(X.columns,probe_wise_sd), key = lambda s: s[1], reverse=True)][:n_probes]\n",
        "X_top = X[max_var_probes]\n",
        "\n",
        "X_top.head()"
      ],
      "execution_count": 105,
      "outputs": [
        {
          "output_type": "execute_result",
          "data": {
            "text/html": [
              "<div>\n",
              "<style scoped>\n",
              "    .dataframe tbody tr th:only-of-type {\n",
              "        vertical-align: middle;\n",
              "    }\n",
              "\n",
              "    .dataframe tbody tr th {\n",
              "        vertical-align: top;\n",
              "    }\n",
              "\n",
              "    .dataframe thead th {\n",
              "        text-align: right;\n",
              "    }\n",
              "</style>\n",
              "<table border=\"1\" class=\"dataframe\">\n",
              "  <thead>\n",
              "    <tr style=\"text-align: right;\">\n",
              "      <th></th>\n",
              "      <th>AFFX-HUMRGE/M10098_5_at</th>\n",
              "      <th>224588_at</th>\n",
              "      <th>242128_at</th>\n",
              "      <th>206018_at</th>\n",
              "      <th>221805_at</th>\n",
              "      <th>203001_s_at</th>\n",
              "      <th>240065_at</th>\n",
              "      <th>205000_at</th>\n",
              "      <th>206140_at</th>\n",
              "      <th>209395_at</th>\n",
              "      <th>224590_at</th>\n",
              "      <th>AFFX-HUMRGE/M10098_M_at</th>\n",
              "      <th>1568612_at</th>\n",
              "      <th>221728_x_at</th>\n",
              "      <th>209396_s_at</th>\n",
              "      <th>203000_at</th>\n",
              "      <th>205626_s_at</th>\n",
              "      <th>229012_at</th>\n",
              "      <th>206502_s_at</th>\n",
              "      <th>210033_s_at</th>\n",
              "      <th>214218_s_at</th>\n",
              "      <th>231666_at</th>\n",
              "      <th>228170_at</th>\n",
              "      <th>204712_at</th>\n",
              "      <th>236538_at</th>\n",
              "      <th>231077_at</th>\n",
              "      <th>210016_at</th>\n",
              "      <th>210809_s_at</th>\n",
              "      <th>206135_at</th>\n",
              "      <th>231731_at</th>\n",
              "      <th>206915_at</th>\n",
              "      <th>227671_at</th>\n",
              "      <th>206552_s_at</th>\n",
              "      <th>201909_at</th>\n",
              "      <th>AFFX-M27830_5_at</th>\n",
              "      <th>242344_at</th>\n",
              "      <th>205625_s_at</th>\n",
              "      <th>206826_at</th>\n",
              "      <th>205358_at</th>\n",
              "      <th>236085_at</th>\n",
              "      <th>...</th>\n",
              "      <th>232054_at</th>\n",
              "      <th>206306_at</th>\n",
              "      <th>236734_at</th>\n",
              "      <th>238021_s_at</th>\n",
              "      <th>1556329_a_at</th>\n",
              "      <th>202363_at</th>\n",
              "      <th>205651_x_at</th>\n",
              "      <th>205590_at</th>\n",
              "      <th>1569469_a_at</th>\n",
              "      <th>224997_x_at</th>\n",
              "      <th>203295_s_at</th>\n",
              "      <th>235753_at</th>\n",
              "      <th>225911_at</th>\n",
              "      <th>214217_at</th>\n",
              "      <th>223381_at</th>\n",
              "      <th>218585_s_at</th>\n",
              "      <th>1554784_at</th>\n",
              "      <th>211203_s_at</th>\n",
              "      <th>1559283_a_at</th>\n",
              "      <th>213844_at</th>\n",
              "      <th>239183_at</th>\n",
              "      <th>241382_at</th>\n",
              "      <th>206858_s_at</th>\n",
              "      <th>242881_x_at</th>\n",
              "      <th>207014_at</th>\n",
              "      <th>228598_at</th>\n",
              "      <th>228462_at</th>\n",
              "      <th>1557256_a_at</th>\n",
              "      <th>213194_at</th>\n",
              "      <th>205110_s_at</th>\n",
              "      <th>212909_at</th>\n",
              "      <th>1556444_a_at</th>\n",
              "      <th>206084_at</th>\n",
              "      <th>1556095_at</th>\n",
              "      <th>207850_at</th>\n",
              "      <th>214432_at</th>\n",
              "      <th>202037_s_at</th>\n",
              "      <th>244403_at</th>\n",
              "      <th>225645_at</th>\n",
              "      <th>204471_at</th>\n",
              "    </tr>\n",
              "  </thead>\n",
              "  <tbody>\n",
              "    <tr>\n",
              "      <th>0</th>\n",
              "      <td>4.769155</td>\n",
              "      <td>5.387776</td>\n",
              "      <td>4.173756</td>\n",
              "      <td>5.223720</td>\n",
              "      <td>3.468729</td>\n",
              "      <td>6.176408</td>\n",
              "      <td>11.033385</td>\n",
              "      <td>9.136110</td>\n",
              "      <td>4.897033</td>\n",
              "      <td>4.679266</td>\n",
              "      <td>4.091570</td>\n",
              "      <td>4.687528</td>\n",
              "      <td>4.611667</td>\n",
              "      <td>7.150693</td>\n",
              "      <td>6.427436</td>\n",
              "      <td>6.601549</td>\n",
              "      <td>11.095619</td>\n",
              "      <td>12.775405</td>\n",
              "      <td>5.621846</td>\n",
              "      <td>12.035224</td>\n",
              "      <td>4.403013</td>\n",
              "      <td>10.644719</td>\n",
              "      <td>6.451659</td>\n",
              "      <td>5.944191</td>\n",
              "      <td>4.290390</td>\n",
              "      <td>12.150120</td>\n",
              "      <td>4.785396</td>\n",
              "      <td>5.989578</td>\n",
              "      <td>5.115718</td>\n",
              "      <td>4.318966</td>\n",
              "      <td>4.486196</td>\n",
              "      <td>6.373182</td>\n",
              "      <td>3.859794</td>\n",
              "      <td>11.527108</td>\n",
              "      <td>6.060622</td>\n",
              "      <td>5.202238</td>\n",
              "      <td>11.436261</td>\n",
              "      <td>10.564605</td>\n",
              "      <td>5.847065</td>\n",
              "      <td>12.065463</td>\n",
              "      <td>...</td>\n",
              "      <td>4.660987</td>\n",
              "      <td>10.965691</td>\n",
              "      <td>5.556722</td>\n",
              "      <td>10.170392</td>\n",
              "      <td>7.040364</td>\n",
              "      <td>7.182850</td>\n",
              "      <td>4.792025</td>\n",
              "      <td>6.009340</td>\n",
              "      <td>3.779234</td>\n",
              "      <td>9.023150</td>\n",
              "      <td>12.454908</td>\n",
              "      <td>5.832249</td>\n",
              "      <td>5.426833</td>\n",
              "      <td>7.177722</td>\n",
              "      <td>4.409156</td>\n",
              "      <td>5.890048</td>\n",
              "      <td>10.298868</td>\n",
              "      <td>11.329449</td>\n",
              "      <td>7.746515</td>\n",
              "      <td>5.965784</td>\n",
              "      <td>6.433439</td>\n",
              "      <td>5.857215</td>\n",
              "      <td>6.880902</td>\n",
              "      <td>4.458017</td>\n",
              "      <td>8.895991</td>\n",
              "      <td>8.267328</td>\n",
              "      <td>9.571647</td>\n",
              "      <td>6.063121</td>\n",
              "      <td>7.173545</td>\n",
              "      <td>9.472898</td>\n",
              "      <td>11.615440</td>\n",
              "      <td>7.162683</td>\n",
              "      <td>4.350726</td>\n",
              "      <td>3.519282</td>\n",
              "      <td>5.891652</td>\n",
              "      <td>7.286365</td>\n",
              "      <td>6.596274</td>\n",
              "      <td>11.080307</td>\n",
              "      <td>5.650184</td>\n",
              "      <td>6.004935</td>\n",
              "    </tr>\n",
              "    <tr>\n",
              "      <th>1</th>\n",
              "      <td>5.011087</td>\n",
              "      <td>12.201147</td>\n",
              "      <td>3.603069</td>\n",
              "      <td>10.345439</td>\n",
              "      <td>3.906425</td>\n",
              "      <td>8.043318</td>\n",
              "      <td>9.531044</td>\n",
              "      <td>4.410002</td>\n",
              "      <td>11.835499</td>\n",
              "      <td>6.003954</td>\n",
              "      <td>10.072409</td>\n",
              "      <td>5.125493</td>\n",
              "      <td>3.919323</td>\n",
              "      <td>10.167258</td>\n",
              "      <td>5.861033</td>\n",
              "      <td>8.442368</td>\n",
              "      <td>10.985740</td>\n",
              "      <td>9.584759</td>\n",
              "      <td>8.566359</td>\n",
              "      <td>10.802934</td>\n",
              "      <td>9.526426</td>\n",
              "      <td>4.858352</td>\n",
              "      <td>4.439667</td>\n",
              "      <td>12.039034</td>\n",
              "      <td>8.987981</td>\n",
              "      <td>10.199452</td>\n",
              "      <td>4.902029</td>\n",
              "      <td>5.614410</td>\n",
              "      <td>6.787502</td>\n",
              "      <td>4.490734</td>\n",
              "      <td>6.598442</td>\n",
              "      <td>10.866672</td>\n",
              "      <td>3.468076</td>\n",
              "      <td>7.024883</td>\n",
              "      <td>7.974346</td>\n",
              "      <td>4.315842</td>\n",
              "      <td>11.511109</td>\n",
              "      <td>10.822987</td>\n",
              "      <td>10.313491</td>\n",
              "      <td>8.097641</td>\n",
              "      <td>...</td>\n",
              "      <td>5.590738</td>\n",
              "      <td>5.810115</td>\n",
              "      <td>5.300295</td>\n",
              "      <td>7.843915</td>\n",
              "      <td>6.915932</td>\n",
              "      <td>9.721343</td>\n",
              "      <td>5.167524</td>\n",
              "      <td>9.158493</td>\n",
              "      <td>3.467608</td>\n",
              "      <td>7.536962</td>\n",
              "      <td>7.954898</td>\n",
              "      <td>4.602575</td>\n",
              "      <td>10.299938</td>\n",
              "      <td>6.541451</td>\n",
              "      <td>7.139728</td>\n",
              "      <td>8.246372</td>\n",
              "      <td>5.610903</td>\n",
              "      <td>6.674543</td>\n",
              "      <td>4.698247</td>\n",
              "      <td>6.180622</td>\n",
              "      <td>6.182677</td>\n",
              "      <td>10.990024</td>\n",
              "      <td>9.904665</td>\n",
              "      <td>4.984639</td>\n",
              "      <td>8.178026</td>\n",
              "      <td>7.631248</td>\n",
              "      <td>9.061860</td>\n",
              "      <td>9.677339</td>\n",
              "      <td>10.566962</td>\n",
              "      <td>11.346226</td>\n",
              "      <td>8.339815</td>\n",
              "      <td>7.570378</td>\n",
              "      <td>4.313228</td>\n",
              "      <td>3.598480</td>\n",
              "      <td>7.608893</td>\n",
              "      <td>5.985776</td>\n",
              "      <td>6.873919</td>\n",
              "      <td>10.123711</td>\n",
              "      <td>6.385532</td>\n",
              "      <td>8.858530</td>\n",
              "    </tr>\n",
              "    <tr>\n",
              "      <th>2</th>\n",
              "      <td>4.549771</td>\n",
              "      <td>5.908902</td>\n",
              "      <td>3.672538</td>\n",
              "      <td>4.735788</td>\n",
              "      <td>4.159132</td>\n",
              "      <td>6.977734</td>\n",
              "      <td>10.456710</td>\n",
              "      <td>11.217399</td>\n",
              "      <td>4.695414</td>\n",
              "      <td>13.356481</td>\n",
              "      <td>3.518604</td>\n",
              "      <td>4.578991</td>\n",
              "      <td>3.903473</td>\n",
              "      <td>5.465632</td>\n",
              "      <td>13.157542</td>\n",
              "      <td>7.244155</td>\n",
              "      <td>9.493862</td>\n",
              "      <td>10.411845</td>\n",
              "      <td>5.382950</td>\n",
              "      <td>11.047207</td>\n",
              "      <td>4.048468</td>\n",
              "      <td>9.879200</td>\n",
              "      <td>11.086066</td>\n",
              "      <td>11.888002</td>\n",
              "      <td>7.836434</td>\n",
              "      <td>10.053591</td>\n",
              "      <td>4.701786</td>\n",
              "      <td>6.765261</td>\n",
              "      <td>4.522126</td>\n",
              "      <td>4.640889</td>\n",
              "      <td>5.570471</td>\n",
              "      <td>5.928881</td>\n",
              "      <td>3.617698</td>\n",
              "      <td>12.365482</td>\n",
              "      <td>7.070830</td>\n",
              "      <td>5.095745</td>\n",
              "      <td>9.798540</td>\n",
              "      <td>11.860087</td>\n",
              "      <td>9.159438</td>\n",
              "      <td>8.268891</td>\n",
              "      <td>...</td>\n",
              "      <td>7.319111</td>\n",
              "      <td>10.000102</td>\n",
              "      <td>5.851076</td>\n",
              "      <td>9.479222</td>\n",
              "      <td>7.603950</td>\n",
              "      <td>10.700807</td>\n",
              "      <td>6.727962</td>\n",
              "      <td>6.122501</td>\n",
              "      <td>3.420132</td>\n",
              "      <td>10.109266</td>\n",
              "      <td>12.034910</td>\n",
              "      <td>4.728801</td>\n",
              "      <td>9.295492</td>\n",
              "      <td>7.107251</td>\n",
              "      <td>6.676462</td>\n",
              "      <td>7.426621</td>\n",
              "      <td>11.136350</td>\n",
              "      <td>11.496217</td>\n",
              "      <td>4.784340</td>\n",
              "      <td>8.906795</td>\n",
              "      <td>7.949111</td>\n",
              "      <td>5.645309</td>\n",
              "      <td>6.448846</td>\n",
              "      <td>4.667823</td>\n",
              "      <td>6.091603</td>\n",
              "      <td>9.938140</td>\n",
              "      <td>9.479321</td>\n",
              "      <td>4.840011</td>\n",
              "      <td>8.922723</td>\n",
              "      <td>8.428403</td>\n",
              "      <td>7.833051</td>\n",
              "      <td>7.002719</td>\n",
              "      <td>4.349924</td>\n",
              "      <td>3.658240</td>\n",
              "      <td>10.701909</td>\n",
              "      <td>6.157049</td>\n",
              "      <td>7.603360</td>\n",
              "      <td>11.013605</td>\n",
              "      <td>6.861646</td>\n",
              "      <td>11.440685</td>\n",
              "    </tr>\n",
              "    <tr>\n",
              "      <th>3</th>\n",
              "      <td>12.747103</td>\n",
              "      <td>12.442323</td>\n",
              "      <td>3.850587</td>\n",
              "      <td>11.892582</td>\n",
              "      <td>8.514866</td>\n",
              "      <td>9.552097</td>\n",
              "      <td>10.652081</td>\n",
              "      <td>4.456123</td>\n",
              "      <td>8.507333</td>\n",
              "      <td>8.946534</td>\n",
              "      <td>9.545054</td>\n",
              "      <td>11.065442</td>\n",
              "      <td>8.223931</td>\n",
              "      <td>12.010278</td>\n",
              "      <td>8.727838</td>\n",
              "      <td>10.143561</td>\n",
              "      <td>5.199563</td>\n",
              "      <td>13.141350</td>\n",
              "      <td>5.177328</td>\n",
              "      <td>12.331341</td>\n",
              "      <td>10.109926</td>\n",
              "      <td>3.753240</td>\n",
              "      <td>8.536778</td>\n",
              "      <td>7.277294</td>\n",
              "      <td>7.711100</td>\n",
              "      <td>12.340554</td>\n",
              "      <td>7.854968</td>\n",
              "      <td>5.940180</td>\n",
              "      <td>4.452334</td>\n",
              "      <td>4.225679</td>\n",
              "      <td>5.136555</td>\n",
              "      <td>11.302756</td>\n",
              "      <td>10.333572</td>\n",
              "      <td>7.103604</td>\n",
              "      <td>12.800238</td>\n",
              "      <td>7.077832</td>\n",
              "      <td>4.907449</td>\n",
              "      <td>8.497988</td>\n",
              "      <td>7.888028</td>\n",
              "      <td>9.134736</td>\n",
              "      <td>...</td>\n",
              "      <td>5.850894</td>\n",
              "      <td>6.456609</td>\n",
              "      <td>5.447271</td>\n",
              "      <td>8.366228</td>\n",
              "      <td>8.490645</td>\n",
              "      <td>9.213243</td>\n",
              "      <td>7.569192</td>\n",
              "      <td>7.263380</td>\n",
              "      <td>3.194060</td>\n",
              "      <td>6.719825</td>\n",
              "      <td>8.633719</td>\n",
              "      <td>5.204247</td>\n",
              "      <td>7.213988</td>\n",
              "      <td>6.698754</td>\n",
              "      <td>8.720583</td>\n",
              "      <td>9.128083</td>\n",
              "      <td>5.977038</td>\n",
              "      <td>5.773790</td>\n",
              "      <td>4.113546</td>\n",
              "      <td>5.346421</td>\n",
              "      <td>4.272169</td>\n",
              "      <td>7.713141</td>\n",
              "      <td>5.792000</td>\n",
              "      <td>4.254669</td>\n",
              "      <td>5.933448</td>\n",
              "      <td>12.082957</td>\n",
              "      <td>5.429010</td>\n",
              "      <td>6.290038</td>\n",
              "      <td>8.713314</td>\n",
              "      <td>9.234461</td>\n",
              "      <td>13.207041</td>\n",
              "      <td>6.153864</td>\n",
              "      <td>6.471266</td>\n",
              "      <td>3.847978</td>\n",
              "      <td>6.387707</td>\n",
              "      <td>6.099015</td>\n",
              "      <td>6.038060</td>\n",
              "      <td>11.551727</td>\n",
              "      <td>5.629890</td>\n",
              "      <td>10.558049</td>\n",
              "    </tr>\n",
              "    <tr>\n",
              "      <th>4</th>\n",
              "      <td>5.258776</td>\n",
              "      <td>12.541323</td>\n",
              "      <td>11.178197</td>\n",
              "      <td>4.640889</td>\n",
              "      <td>3.906560</td>\n",
              "      <td>7.255989</td>\n",
              "      <td>8.037306</td>\n",
              "      <td>5.142808</td>\n",
              "      <td>4.575649</td>\n",
              "      <td>13.165555</td>\n",
              "      <td>9.157431</td>\n",
              "      <td>5.393915</td>\n",
              "      <td>3.816280</td>\n",
              "      <td>11.638513</td>\n",
              "      <td>12.895072</td>\n",
              "      <td>7.894636</td>\n",
              "      <td>6.280712</td>\n",
              "      <td>11.136128</td>\n",
              "      <td>9.941073</td>\n",
              "      <td>5.595262</td>\n",
              "      <td>10.276897</td>\n",
              "      <td>10.681469</td>\n",
              "      <td>8.226100</td>\n",
              "      <td>4.831597</td>\n",
              "      <td>4.774706</td>\n",
              "      <td>11.785825</td>\n",
              "      <td>4.574718</td>\n",
              "      <td>5.674030</td>\n",
              "      <td>5.292506</td>\n",
              "      <td>10.364842</td>\n",
              "      <td>4.062407</td>\n",
              "      <td>11.041195</td>\n",
              "      <td>3.940179</td>\n",
              "      <td>6.814008</td>\n",
              "      <td>7.256066</td>\n",
              "      <td>5.385728</td>\n",
              "      <td>6.912306</td>\n",
              "      <td>11.913802</td>\n",
              "      <td>6.913202</td>\n",
              "      <td>9.649890</td>\n",
              "      <td>...</td>\n",
              "      <td>4.967292</td>\n",
              "      <td>11.106027</td>\n",
              "      <td>5.010968</td>\n",
              "      <td>9.659915</td>\n",
              "      <td>6.304243</td>\n",
              "      <td>7.632855</td>\n",
              "      <td>5.854388</td>\n",
              "      <td>4.707249</td>\n",
              "      <td>3.664095</td>\n",
              "      <td>8.093403</td>\n",
              "      <td>10.200882</td>\n",
              "      <td>5.131830</td>\n",
              "      <td>8.574875</td>\n",
              "      <td>6.300015</td>\n",
              "      <td>7.914100</td>\n",
              "      <td>8.136849</td>\n",
              "      <td>9.144594</td>\n",
              "      <td>10.762272</td>\n",
              "      <td>4.025354</td>\n",
              "      <td>5.396552</td>\n",
              "      <td>4.386617</td>\n",
              "      <td>5.294340</td>\n",
              "      <td>6.875204</td>\n",
              "      <td>4.446098</td>\n",
              "      <td>5.329976</td>\n",
              "      <td>7.015770</td>\n",
              "      <td>10.441048</td>\n",
              "      <td>8.307881</td>\n",
              "      <td>9.619380</td>\n",
              "      <td>8.462768</td>\n",
              "      <td>6.059611</td>\n",
              "      <td>6.628710</td>\n",
              "      <td>4.063656</td>\n",
              "      <td>3.557482</td>\n",
              "      <td>9.436168</td>\n",
              "      <td>6.653878</td>\n",
              "      <td>10.349228</td>\n",
              "      <td>10.237334</td>\n",
              "      <td>7.625203</td>\n",
              "      <td>10.521267</td>\n",
              "    </tr>\n",
              "  </tbody>\n",
              "</table>\n",
              "<p>5 rows × 500 columns</p>\n",
              "</div>"
            ],
            "text/plain": [
              "   AFFX-HUMRGE/M10098_5_at  224588_at  ...  225645_at  204471_at\n",
              "0                 4.769155   5.387776  ...   5.650184   6.004935\n",
              "1                 5.011087  12.201147  ...   6.385532   8.858530\n",
              "2                 4.549771   5.908902  ...   6.861646  11.440685\n",
              "3                12.747103  12.442323  ...   5.629890  10.558049\n",
              "4                 5.258776  12.541323  ...   7.625203  10.521267\n",
              "\n",
              "[5 rows x 500 columns]"
            ]
          },
          "metadata": {},
          "execution_count": 105
        }
      ]
    },
    {
      "cell_type": "markdown",
      "metadata": {
        "id": "_TQ1YR6fMNkv"
      },
      "source": [
        "Visualization with 2D t-SNE:"
      ]
    },
    {
      "cell_type": "code",
      "metadata": {
        "colab": {
          "base_uri": "https://localhost:8080/",
          "height": 352
        },
        "id": "pHptdur8MX0X",
        "outputId": "8ff3fd8e-c899-44ed-b1c4-e759766d0432"
      },
      "source": [
        "X_tsne = TSNE(n_components=2,random_state=42).fit_transform(X_top)\n",
        "\n",
        "cdict = dict(zip(classes,range(1,1+len(classes))))\n",
        "\n",
        "fig, ax = plt.subplots(figsize=(5, 5))\n",
        "\n",
        "for cls in classes: plt.scatter(X_tsne[y==cls,0],X_tsne[y==cls,1], label=cls)\n",
        "\n",
        "plt.xlabel('t-SNE 1')\n",
        "plt.ylabel('t-SNE 2')\n",
        "plt.legend(loc='best')"
      ],
      "execution_count": 106,
      "outputs": [
        {
          "output_type": "execute_result",
          "data": {
            "text/plain": [
              "<matplotlib.legend.Legend at 0x7f2805c3d3d0>"
            ]
          },
          "metadata": {},
          "execution_count": 106
        },
        {
          "output_type": "display_data",
          "data": {
            "image/png": "[encoded data removed]",
            "text/plain": [
              "<Figure size 360x360 with 1 Axes>"
            ]
          },
          "metadata": {
            "needs_background": "light"
          }
        }
      ]
    },
    {
      "cell_type": "markdown",
      "metadata": {
        "id": "AKcgY_A7Mt1l"
      },
      "source": [
        "Visualizing the directions of maximum variance in the data with PCA:"
      ]
    },
    {
      "cell_type": "code",
      "metadata": {
        "id": "JKB6XK8vJUQp"
      },
      "source": [
        "## Standardizing the data matrix (zero mean, unit SD per feature/column)\n",
        "X_scaled = StandardScaler().fit_transform(X_top)\n",
        "\n",
        "pca = PCA(n_components=10).fit(X_scaled)\n",
        "\n",
        "X_pca = pca.transform(X_scaled)"
      ],
      "execution_count": 107,
      "outputs": []
    },
    {
      "cell_type": "code",
      "metadata": {
        "colab": {
          "base_uri": "https://localhost:8080/",
          "height": 297
        },
        "id": "om0kN73Vghqr",
        "outputId": "00a328d7-2db4-48e1-edf2-76dae641189a"
      },
      "source": [
        "plt.plot(pca.explained_variance_ratio_,'o-')\n",
        "plt.xlabel('PC #')\n",
        "plt.ylabel('Proportion of variance explained')"
      ],
      "execution_count": 109,
      "outputs": [
        {
          "output_type": "execute_result",
          "data": {
            "text/plain": [
              "Text(0, 0.5, 'Proportion of variance explained')"
            ]
          },
          "metadata": {},
          "execution_count": 109
        },
        {
          "output_type": "display_data",
          "data": {
            "image/png": "[encoded data removed]",
            "text/plain": [
              "<Figure size 432x288 with 1 Axes>"
            ]
          },
          "metadata": {
            "needs_background": "light"
          }
        }
      ]
    },
    {
      "cell_type": "code",
      "metadata": {
        "colab": {
          "base_uri": "https://localhost:8080/",
          "height": 406
        },
        "id": "n3Pjm0thH3_Q",
        "outputId": "ad60ab9a-4f38-468d-8bc1-5dc8c598a35c"
      },
      "source": [
        "cdict = dict(zip(classes,range(1,1+len(classes))))\n",
        "\n",
        "fig, ax = plt.subplots(figsize=(6, 6))\n",
        "\n",
        "for cls in classes: plt.scatter(X_pca[y==cls,0],X_pca[y==cls,1], label=cls)\n",
        "plt.xlabel('PC1')\n",
        "plt.ylabel('PC2')\n",
        "plt.legend(loc='best')"
      ],
      "execution_count": 110,
      "outputs": [
        {
          "output_type": "execute_result",
          "data": {
            "text/plain": [
              "<matplotlib.legend.Legend at 0x7f2807fddf50>"
            ]
          },
          "metadata": {},
          "execution_count": 110
        },
        {
          "output_type": "display_data",
          "data": {
            "image/png": "[encoded data removed]",
            "text/plain": [
              "<Figure size 432x432 with 1 Axes>"
            ]
          },
          "metadata": {
            "needs_background": "light"
          }
        }
      ]
    },
    {
      "cell_type": "markdown",
      "metadata": {
        "id": "FpcziUKLN-K7"
      },
      "source": [
        "The different classes separate out quite clearly in 2D PC space for this dataset, suggesting that a prediction model using top few PCs should perform well.\n",
        "\n",
        "**Potential caveats:** In addition to the relatively small sample size of this dataset, data leakage due to prior normalization of samples is possible. To avoid this problem in practice, raw expression data may be normalized in a way that does not leak information between train/test samples (e.g. by normalizing every sample relative to a common reference sample). [For illustration, however, we use the normalized values provided as-is.]"
      ]
    },
    {
      "cell_type": "markdown",
      "metadata": {
        "id": "mD98Fpv3O28k"
      },
      "source": [
        "\n",
        "\n",
        "---\n",
        "\n",
        "\n",
        "**Train-test split:**"
      ]
    },
    {
      "cell_type": "code",
      "metadata": {
        "id": "aX9aHzCzIdSN",
        "colab": {
          "base_uri": "https://localhost:8080/"
        },
        "outputId": "11c56376-6e14-4011-f456-b46275ae50eb"
      },
      "source": [
        "X_train, X_test, y_train, y_test = train_test_split(X_top, y, test_size=0.2, random_state=42,stratify=y)\n",
        "\n",
        "print('Train #:',len(y_train))\n",
        "for c in classes: print(c,len(y_train[y_train == c]))\n",
        "\n",
        "print('Test #:',len(y_test))\n",
        "for c in classes: print(c,len(y_test[y_test == c]))"
      ],
      "execution_count": 124,
      "outputs": [
        {
          "output_type": "stream",
          "name": "stdout",
          "text": [
            "Train #: 104\n",
            "ependymoma 37\n",
            "glioblastoma 27\n",
            "medulloblastoma 18\n",
            "normal 10\n",
            "pilocytic_astrocytoma 12\n",
            "Test #: 26\n",
            "ependymoma 9\n",
            "glioblastoma 7\n",
            "medulloblastoma 4\n",
            "normal 3\n",
            "pilocytic_astrocytoma 3\n"
          ]
        }
      ]
    },
    {
      "cell_type": "markdown",
      "metadata": {
        "id": "mQh2wBMpXwfe"
      },
      "source": [
        "\n",
        "\n",
        "---\n",
        "\n",
        "\n",
        "**k-NN (nearest neighbors) classifier in the n_probes-dim space**"
      ]
    },
    {
      "cell_type": "code",
      "metadata": {
        "colab": {
          "base_uri": "https://localhost:8080/"
        },
        "id": "aPf0ZGWJWwVg",
        "outputId": "f145b025-1018-44ac-d435-f3de777d0889"
      },
      "source": [
        "## Values are scaled by max abs value per fature/column; scaling is applied to the training data, \n",
        "## and the same scaler will be used on the test data before predictions, to avoid data leakage)\n",
        "scaler = MaxAbsScaler().fit(X_train)\n",
        "\n",
        "X_train_scaled = pd.DataFrame(scaler.transform(X_train),columns=X_train.columns)\n",
        "\n",
        "knnc = KNeighborsClassifier(n_neighbors=5,metric='euclidean')\n",
        "knnc.fit(X_train_scaled, y_train)"
      ],
      "execution_count": 125,
      "outputs": [
        {
          "output_type": "execute_result",
          "data": {
            "text/plain": [
              "KNeighborsClassifier(algorithm='auto', leaf_size=30, metric='euclidean',\n",
              "                     metric_params=None, n_jobs=None, n_neighbors=5, p=2,\n",
              "                     weights='uniform')"
            ]
          },
          "metadata": {},
          "execution_count": 125
        }
      ]
    },
    {
      "cell_type": "markdown",
      "metadata": {
        "id": "cux91JjvYKLQ"
      },
      "source": [
        "k-NN performance on held-out test samples\n"
      ]
    },
    {
      "cell_type": "code",
      "metadata": {
        "colab": {
          "base_uri": "https://localhost:8080/"
        },
        "id": "JtihTK2OW2SR",
        "outputId": "52cd1d8f-4c9b-4a29-e095-55d275f5c361"
      },
      "source": [
        "X_test_scaled = pd.DataFrame(scaler.transform(X_test),columns=X_test.columns)\n",
        "y_pred = knnc.predict(X_test_scaled)\n",
        "\n",
        "acc = knnc.score(X_test_scaled,y_test)\n",
        "f1_perclass = f1_score(y_test,y_pred,average=None,labels=y_train.unique())\n",
        "f1_avg = f1_score(y_test,y_pred,average='weighted')\n",
        "\n",
        "print('Clf accuracy:',acc, '\\nMean F1-score:',f1_avg)\n",
        "for c,f1 in sorted(zip(y_train.unique(),f1_perclass),key=lambda f: f[0]): print(c,f1)"
      ],
      "execution_count": 126,
      "outputs": [
        {
          "output_type": "stream",
          "name": "stdout",
          "text": [
            "Clf accuracy: 0.9230769230769231 \n",
            "Mean F1-score: 0.9230769230769231\n",
            "ependymoma 0.8888888888888888\n",
            "glioblastoma 1.0\n",
            "medulloblastoma 0.8571428571428571\n",
            "normal 1.0\n",
            "pilocytic_astrocytoma 0.8571428571428571\n"
          ]
        }
      ]
    },
    {
      "cell_type": "markdown",
      "metadata": {
        "id": "LyMTubt6oe7R"
      },
      "source": [
        "**k-NN predictor in reduced (PC) space**"
      ]
    },
    {
      "cell_type": "code",
      "metadata": {
        "colab": {
          "base_uri": "https://localhost:8080/"
        },
        "id": "HqFTN_EKnqus",
        "outputId": "e0326e2e-5617-496d-e1c2-d585aadd31a5"
      },
      "source": [
        "## Standardizing the training data matrix (zero mean, unit SD per feature/column)\n",
        "stdscaler = StandardScaler().fit(X_train)\n",
        "\n",
        "X_train_scaled = stdscaler.transform(X_train)\n",
        "\n",
        "## Projection on top two PC axes:\n",
        "pca = PCA(n_components=2).fit(X_train_scaled)\n",
        "X_train_pc = pca.transform(X_train_scaled)\n",
        "\n",
        "## kNN classifier fit on training set examples with euclidean metric in 2D PC space \n",
        "knnc = KNeighborsClassifier(n_neighbors=5,weights='uniform',metric='euclidean')\n",
        "knnc.fit(X_train_pc, y_train)"
      ],
      "execution_count": 191,
      "outputs": [
        {
          "output_type": "execute_result",
          "data": {
            "text/plain": [
              "KNeighborsClassifier(algorithm='auto', leaf_size=30, metric='euclidean',\n",
              "                     metric_params=None, n_jobs=None, n_neighbors=5, p=2,\n",
              "                     weights='uniform')"
            ]
          },
          "metadata": {},
          "execution_count": 191
        }
      ]
    },
    {
      "cell_type": "markdown",
      "metadata": {
        "id": "UHViMtOWsHhI"
      },
      "source": [
        "Testing classifier on held-out examples"
      ]
    },
    {
      "cell_type": "code",
      "metadata": {
        "colab": {
          "base_uri": "https://localhost:8080/"
        },
        "id": "bcdYdoq4p0FL",
        "outputId": "c42837fb-9fb0-4ba6-add2-bbd37f0f2a74"
      },
      "source": [
        "## Projecting test cases on training set PC axes:\n",
        "\n",
        "X_test_scaled = stdscaler.transform(X_test)\n",
        "X_test_pc = pca.transform(X_test_scaled)\n",
        "\n",
        "## Predicting classes:\n",
        "\n",
        "y_pred = knnc.predict(X_test_pc)\n",
        "\n",
        "acc = knnc.score(X_test_pc,y_test)\n",
        "f1_perclass = f1_score(y_test,y_pred,average=None,labels=y_train.unique())\n",
        "f1_avg = f1_score(y_test,y_pred,average='weighted')\n",
        "\n",
        "print('Clf accuracy:',acc, '\\nMean F1-score:',f1_avg)\n",
        "for c,f1 in sorted(zip(y_train.unique(),f1_perclass),key=lambda f: f[0]): print(c,f1)"
      ],
      "execution_count": 192,
      "outputs": [
        {
          "output_type": "stream",
          "name": "stdout",
          "text": [
            "Clf accuracy: 0.9230769230769231 \n",
            "Mean F1-score: 0.9230769230769231\n",
            "ependymoma 0.8888888888888888\n",
            "glioblastoma 1.0\n",
            "medulloblastoma 0.8571428571428571\n",
            "normal 1.0\n",
            "pilocytic_astrocytoma 0.8571428571428571\n"
          ]
        }
      ]
    },
    {
      "cell_type": "markdown",
      "metadata": {
        "id": "gwLbHav9K18N"
      },
      "source": [
        "Visualizing decision boundaries in 2D space:"
      ]
    },
    {
      "cell_type": "code",
      "metadata": {
        "colab": {
          "base_uri": "https://localhost:8080/",
          "height": 422
        },
        "id": "1BBJLIWu9Z55",
        "outputId": "82c600aa-1eda-4daf-9e54-35e712043a97"
      },
      "source": [
        "class2num = dict(zip(classes,range(1,1+len(classes))))\n",
        "cmap_classes = ListedColormap(['b','k','r','c','m'])\n",
        "\n",
        "h=0.1\n",
        "margin=3\n",
        "\n",
        "x_min, x_max = X_train_pc[:, 0].min() - margin, X_train_pc[:, 0].max() + margin\n",
        "y_min, y_max = X_train_pc[:, 1].min() - margin, X_train_pc[:, 1].max() + margin\n",
        "xx, yy = np.meshgrid(np.arange(x_min, x_max, h),np.arange(y_min, y_max, h))\n",
        "Z = np.array([class2num[cls] for cls in knnc.predict(np.c_[xx.ravel(), yy.ravel()])])\n",
        "\n",
        "Z = Z.reshape(xx.shape)\n",
        "\n",
        "plt.figure(figsize=(6, 6))\n",
        "plt.contourf(xx, yy, Z, cmap=cmap_classes, alpha=0.2)\n",
        "\n",
        "## Overlaying training data (same colormap):\n",
        "\n",
        "cdict = dict(zip(classes,['b','k','r','c','m']))\n",
        "\n",
        "for cls in classes: plt.scatter(X_train_pc[y_train==cls,0],X_train_pc[y_train==cls,1], c = [cdict[cls] for i in range(len(y_train[y_train==cls]))], label=cls,alpha=0.5)\n",
        "plt.xlabel('Train PC1')\n",
        "plt.ylabel('Train PC2')\n",
        "plt.legend(loc='best')\n",
        "\n",
        "plt.title('Decision boundaries for k-NN classifier')"
      ],
      "execution_count": 200,
      "outputs": [
        {
          "output_type": "execute_result",
          "data": {
            "text/plain": [
              "Text(0.5, 1.0, 'Decision boundaries for k-NN classifier')"
            ]
          },
          "metadata": {},
          "execution_count": 200
        },
        {
          "output_type": "display_data",
          "data": {
            "image/png": "[encoded data removed]",
            "text/plain": [
              "<Figure size 432x432 with 1 Axes>"
            ]
          },
          "metadata": {
            "needs_background": "light"
          }
        }
      ]
    }
  ]
}